{
 "cells": [
  {
   "cell_type": "code",
   "execution_count": 1,
   "metadata": {},
   "outputs": [],
   "source": [
    "import pandas as pd\n",
    "import json\n",
    "from tool import load_data, store_data\n",
    "import pprint\n",
    "pp = pprint.PrettyPrinter(indent=4)"
   ]
  },
  {
   "cell_type": "markdown",
   "metadata": {},
   "source": [
    "## Load Data"
   ]
  },
  {
   "cell_type": "markdown",
   "metadata": {},
   "source": [
    "### Load Phone Data"
   ]
  },
  {
   "cell_type": "code",
   "execution_count": 2,
   "metadata": {},
   "outputs": [],
   "source": [
    "phone_data_file = 'data/new_phone_data_v4.json'\n",
    "\n",
    "phone_data = load_data.load_json_data(phone_data_file)\n",
    "\n",
    "phone_data = phone_data['phones']"
   ]
  },
  {
   "cell_type": "code",
   "execution_count": 3,
   "metadata": {},
   "outputs": [
    {
     "name": "stdout",
     "output_type": "stream",
     "text": [
      "18\n",
      "Index(['modelname', 'brand', 'nettech', 'os1', 'nfc', 'year', 'fullscreen',\n",
      "       'phone_size', 'phone_thickness', 'phone_weight', 'resolution', 'camera',\n",
      "       'storage', 'ram', 'displaysize', 'battery', 'price', 'popularity'],\n",
      "      dtype='object')\n"
     ]
    }
   ],
   "source": [
    "phone_data_dict = {}\n",
    "id = 0\n",
    "for each_phone in phone_data:\n",
    "    id += 1\n",
    "    phone_data_dict[id] = each_phone\n",
    "\n",
    "phone_data_df = pd.DataFrame.from_dict(phone_data_dict, orient='index')\n",
    "\n",
    "print(len(phone_data_df.columns))\n",
    "print(phone_data_df.columns)\n"
   ]
  },
  {
   "cell_type": "code",
   "execution_count": 4,
   "metadata": {},
   "outputs": [
    {
     "name": "stdout",
     "output_type": "stream",
     "text": [
      "6\n",
      "11\n"
     ]
    }
   ],
   "source": [
    "categorical_attributes = ['brand','nettech','os1', 'nfc', 'year', 'fullscreen']\n",
    "numerical_attributes = ['phone_size','phone_thickness','phone_weight', 'resolution', 'camera', 'storage', 'ram','displaysize', 'battery', 'price','popularity']\n",
    "\n",
    "print(len(categorical_attributes))\n",
    "print(len(numerical_attributes))\n"
   ]
  },
  {
   "cell_type": "markdown",
   "metadata": {},
   "source": [
    "### Create Simulated User Profile Data"
   ]
  },
  {
   "cell_type": "code",
   "execution_count": 5,
   "metadata": {},
   "outputs": [],
   "source": [
    "user_profile_data_file = 'data/user_profile_phone.json'\n",
    "\n",
    "user_profile_data = load_data.load_json_data(user_profile_data_file)\n",
    "\n",
    "user_profile_phone = {}"
   ]
  },
  {
   "cell_type": "code",
   "execution_count": 9,
   "metadata": {},
   "outputs": [
    {
     "ename": "SyntaxError",
     "evalue": "invalid syntax (<ipython-input-9-f3d9029b1bba>, line 42)",
     "output_type": "error",
     "traceback": [
      "\u001b[0;36m  File \u001b[0;32m\"<ipython-input-9-f3d9029b1bba>\"\u001b[0;36m, line \u001b[0;32m42\u001b[0m\n\u001b[0;31m    \"browsedItems\":[phone_data[4]['modelname'], phone_data[10]['modelname'], phone_data[20]['modelname'], phone_data[200]['modelname']],\u001b[0m\n\u001b[0m                 ^\u001b[0m\n\u001b[0;31mSyntaxError\u001b[0m\u001b[0;31m:\u001b[0m invalid syntax\n"
     ]
    }
   ],
   "source": [
    "import random\n",
    " \n",
    "# user_profile_phone['pool'] = phone_data\n",
    "user_profile_phone['user'] = {}\n",
    "user_profile_phone['topRecommendedItem'] = phone_data[200]['modelname']\n",
    "user_profile_phone['logger'] = {\n",
    "    \"dialog\": [], \n",
    "    \"latest_dialog\": [\n",
    "            {\n",
    "                \"agent\": \"you\",\n",
    "                \"text\": \"higher price\",\n",
    "                \"modality\": \"typing\",\n",
    "                \"action\": \"User_Critique\",\n",
    "                \"critique\": [\n",
    "                    {\n",
    "                        \"price\": \"higher\"\n",
    "                    }\n",
    "                ],\n",
    "                \"critiqued_item\": phone_data[200]['modelname'],\n",
    "                \"timestamp\": 1554364438665\n",
    "            },\n",
    "            {\n",
    "                \"agent\": \"robot\",\n",
    "                \"text\": \"alcatel Tetra\",\n",
    "                \"action\": \"Recommend\",\n",
    "                \"timestamp\": 1554364466208\n",
    "            },\n",
    "            {\n",
    "                \"agent\": \"you\",\n",
    "                \"text\": \"I like this one.\",\n",
    "                \"modality\": \"btn\",\n",
    "                \"action\": \"Accept_Item\",\n",
    "                \"user_critique\": [\n",
    "                    {\n",
    "                        \"price\": \"higher\"\n",
    "                    }\n",
    "                ],\n",
    "                \"critiqued_item\": phone_data[200]['modelname'],\n",
    "                \"timestamp\": 1554364493262\n",
    "            }\n",
    "        ],\n",
    "    \"browsedItems\":[phone_data[4]['modelname'], phone_data[10]['modelname'], phone_data[20]['modelname'], phone_data[200]['modelname']], \n",
    "    \"likedItems\":[phone_data[4]['modelname'], phone_data[10]['modelname']], \n",
    "    \"dislikedItems\":[phone_data[20]['modelname'], phone_data[200]['modelname']]\n",
    "    }\n",
    "\n",
    "\n",
    "# simulated preferenceData\n",
    "preference_data = {}\n",
    "\n",
    "for attr in categorical_attributes:\n",
    "    if attr == 'nettech':\n",
    "        preference_data[attr] = ['5G']\n",
    "    else:\n",
    "        random_int = random.randint(1,700)\n",
    "        preference_data[attr] = [phone_data_df[attr][random_int]]\n",
    "\n",
    "preference_data['price']= [100, 300]\n",
    "preference_data['displaysize']= [5, 6]\n",
    "preference_data['storage']= [32,64]\n",
    "preference_data['phone_weight']= [50,100]\n",
    "preference_data['battery']= [2000,3000]\n",
    "user_profile_phone['user']  = {'preferenceData': preference_data, '_id': '23fsdf23r4fsdfss'}\n",
    "\n",
    "pp.pprint(user_profile_phone['user'])"
   ]
  },
  {
   "cell_type": "code",
   "execution_count": 8,
   "metadata": {},
   "outputs": [
    {
     "data": {
      "text/plain": [
       "'[Successfully store in json file]'"
      ]
     },
     "execution_count": 8,
     "metadata": {},
     "output_type": "execute_result"
    }
   ],
   "source": [
    "user_profile_data_file = 'data/user_profile_phone_v4.json'\n",
    "\n",
    "store_data.store_data_to_json(user_profile_phone,user_profile_data_file)"
   ]
  },
  {
   "cell_type": "code",
   "execution_count": null,
   "metadata": {},
   "outputs": [],
   "source": []
  },
  {
   "cell_type": "code",
   "execution_count": null,
   "metadata": {},
   "outputs": [],
   "source": []
  },
  {
   "cell_type": "code",
   "execution_count": null,
   "metadata": {},
   "outputs": [],
   "source": []
  },
  {
   "cell_type": "code",
   "execution_count": null,
   "metadata": {},
   "outputs": [],
   "source": []
  },
  {
   "cell_type": "code",
   "execution_count": null,
   "metadata": {},
   "outputs": [],
   "source": []
  },
  {
   "cell_type": "code",
   "execution_count": null,
   "metadata": {},
   "outputs": [],
   "source": []
  },
  {
   "cell_type": "code",
   "execution_count": null,
   "metadata": {},
   "outputs": [],
   "source": []
  },
  {
   "cell_type": "code",
   "execution_count": null,
   "metadata": {},
   "outputs": [],
   "source": []
  },
  {
   "cell_type": "code",
   "execution_count": null,
   "metadata": {},
   "outputs": [],
   "source": []
  },
  {
   "cell_type": "code",
   "execution_count": null,
   "metadata": {},
   "outputs": [],
   "source": []
  },
  {
   "cell_type": "code",
   "execution_count": null,
   "metadata": {},
   "outputs": [],
   "source": []
  },
  {
   "cell_type": "raw",
   "metadata": {},
   "source": []
  },
  {
   "cell_type": "code",
   "execution_count": null,
   "metadata": {},
   "outputs": [],
   "source": []
  },
  {
   "cell_type": "code",
   "execution_count": null,
   "metadata": {},
   "outputs": [],
   "source": []
  }
 ],
 "metadata": {
  "kernelspec": {
   "display_name": "Python 3",
   "language": "python",
   "name": "python3"
  },
  "language_info": {
   "codemirror_mode": {
    "name": "ipython",
    "version": 3
   },
   "file_extension": ".py",
   "mimetype": "text/x-python",
   "name": "python",
   "nbconvert_exporter": "python",
   "pygments_lexer": "ipython3",
   "version": "3.7.3"
  }
 },
 "nbformat": 4,
 "nbformat_minor": 2
}
