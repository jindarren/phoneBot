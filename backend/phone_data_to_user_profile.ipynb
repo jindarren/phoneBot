{
 "cells": [
  {
   "cell_type": "code",
   "execution_count": 16,
   "metadata": {},
   "outputs": [],
   "source": [
    "import pandas as pd\n",
    "import json\n",
    "from tool import load_data, store_data\n",
    "import pprint\n",
    "pp = pprint.PrettyPrinter(indent=4)"
   ]
  },
  {
   "cell_type": "markdown",
   "metadata": {},
   "source": [
    "## Load Data"
   ]
  },
  {
   "cell_type": "markdown",
   "metadata": {},
   "source": [
    "### Load Phone Data"
   ]
  },
  {
   "cell_type": "code",
   "execution_count": 17,
   "metadata": {},
   "outputs": [],
   "source": [
    "phone_data_file = 'data/new_phone_data.json'\n",
    "\n",
    "phone_data = load_data.load_json_data(phone_data_file)\n",
    "\n",
    "phone_data = phone_data['pool']"
   ]
  },
  {
   "cell_type": "code",
   "execution_count": 18,
   "metadata": {},
   "outputs": [
    {
     "name": "stdout",
     "output_type": "stream",
     "text": [
      "19\n",
      "Index(['id', 'modelname', 'brand', 'nettech', 'os1', 'nfc', 'year',\n",
      "       'fullscreen', 'phone_size', 'phone_thickness', 'phone_weight',\n",
      "       'resolution', 'camera', 'storage', 'ram', 'displaysize', 'battery',\n",
      "       'price', 'popularity'],\n",
      "      dtype='object')\n"
     ]
    }
   ],
   "source": [
    "phone_data_dict = {}\n",
    "id = 0\n",
    "for each_phone in phone_data:\n",
    "    id += 1\n",
    "    phone_data_dict[id] = each_phone\n",
    "\n",
    "phone_data_df = pd.DataFrame.from_dict(phone_data_dict, orient='index')\n",
    "\n",
    "print(len(phone_data_df.columns))\n",
    "print(phone_data_df.columns)\n"
   ]
  },
  {
   "cell_type": "code",
   "execution_count": 19,
   "metadata": {},
   "outputs": [
    {
     "name": "stdout",
     "output_type": "stream",
     "text": [
      "6\n",
      "11\n"
     ]
    }
   ],
   "source": [
    "categorical_attributes = ['brand','nettech','os1', 'nfc', 'year', 'fullscreen']\n",
    "numerical_attributes = ['phone_size','phone_thickness','phone_weight', 'resolution', 'camera', 'storage', 'ram','displaysize', 'battery', 'price','popularity']\n",
    "\n",
    "print(len(categorical_attributes))\n",
    "print(len(numerical_attributes))\n"
   ]
  },
  {
   "cell_type": "markdown",
   "metadata": {},
   "source": [
    "### Create Simulated User Profile Data"
   ]
  },
  {
   "cell_type": "code",
   "execution_count": 20,
   "metadata": {},
   "outputs": [],
   "source": [
    "user_profile_data_file = 'data/user_profile_phone.json'\n",
    "\n",
    "user_profile_data = load_data.load_json_data(user_profile_data_file)\n",
    "\n",
    "user_profile_phone = {}"
   ]
  },
  {
   "cell_type": "code",
   "execution_count": 21,
   "metadata": {},
   "outputs": [
    {
     "name": "stdout",
     "output_type": "stream",
     "text": [
      "{'_id': '23fsdf23r4fsdfss', 'preferenceData': {'phones': [23, 67, 204]}}\n"
     ]
    }
   ],
   "source": [
    "import random\n",
    " \n",
    "# user_profile_phone['pool'] = phone_data\n",
    "user_profile_phone['user'] = {}\n",
    "user_profile_phone['topRecommendedItem'] = phone_data[200]['id']\n",
    "user_profile_phone['logger'] = {\n",
    "    \"dialog\": [], \n",
    "    \"latest_dialog\": [\n",
    "            {\n",
    "                \"agent\": \"you\",\n",
    "                \"text\": \"higher price\",\n",
    "                \"modality\": \"typing\",\n",
    "                \"action\": \"User_Critique\",\n",
    "                \"critique\": [\n",
    "                    {\n",
    "                        \"price\": \"higher\"\n",
    "                    }\n",
    "                ],\n",
    "                \"critiqued_item\": phone_data[200]['id'],\n",
    "                \"timestamp\": 1554364438665\n",
    "            },\n",
    "            {\n",
    "                \"agent\": \"robot\",\n",
    "                \"text\": \"789\",\n",
    "                \"action\": \"Recommend\",\n",
    "                \"timestamp\": 1554364466208\n",
    "            },\n",
    "            {\n",
    "                \"agent\": \"you\",\n",
    "                \"text\": \"I like this one.\",\n",
    "                \"modality\": \"btn\",\n",
    "                \"action\": \"Accept_Item\",\n",
    "                \"user_critique\": [\n",
    "                    {\n",
    "                        \"price\": \"higher\"\n",
    "                    }\n",
    "                ],\n",
    "                \"critiqued_item\": phone_data[200]['id'],\n",
    "                \"timestamp\": 1554364493262\n",
    "            }\n",
    "        ],\n",
    "    \"browsedItems\":[phone_data[4]['id'], phone_data[10]['id'], phone_data[20]['id'], phone_data[200]['id']], \n",
    "    \"likedItems\":[phone_data[4]['id'], phone_data[10]['id']], \n",
    "    \"dislikedItems\":[phone_data[20]['id'], phone_data[200]['id']]\n",
    "    }\n",
    "\n",
    "\n",
    "# simulated preferenceData\n",
    "preference_data = {}\n",
    "\n",
    "preference_data = {'phones':[phone_data[23]['id'], phone_data[67]['id'], phone_data[204]['id']]}\n",
    "\n",
    "# for attr in categorical_attributes:\n",
    "#     if attr == 'nettech':\n",
    "#         preference_data[attr] = ['5G']\n",
    "#     else:\n",
    "#         random_int = random.randint(1,700)\n",
    "#         preference_data[attr] = [phone_data_df[attr][random_int]]\n",
    "\n",
    "# preference_data['price']= [100, 300]\n",
    "# preference_data['displaysize']= [5, 6]\n",
    "# preference_data['storage']= [32,64]\n",
    "# preference_data['phone_weight']= [50,100]\n",
    "# preference_data['battery']= [2000,3000]\n",
    "\n",
    "user_profile_phone['user']  = {'preferenceData': preference_data, '_id': '23fsdf23r4fsdfss'}\n",
    "\n",
    "pp.pprint(user_profile_phone['user'])"
   ]
  },
  {
   "cell_type": "code",
   "execution_count": 22,
   "metadata": {},
   "outputs": [
    {
     "data": {
      "text/plain": [
       "'[Successfully store in json file]'"
      ]
     },
     "execution_count": 22,
     "metadata": {},
     "output_type": "execute_result"
    }
   ],
   "source": [
    "user_profile_data_file = 'data/user_profile_phone.json'\n",
    "\n",
    "store_data.store_data_to_json(user_profile_phone,user_profile_data_file)"
   ]
  },
  {
   "cell_type": "code",
   "execution_count": 23,
   "metadata": {},
   "outputs": [
    {
     "data": {
      "text/plain": [
       "GSM / HSPA / LTE                       624\n",
       "GSM / CDMA / HSPA / LTE                192\n",
       "GSM / CDMA / HSPA / EVDO / LTE          93\n",
       "GSM / HSPA                              27\n",
       "GSM / CDMA / HSPA / EVDO / LTE / 5G     22\n",
       "GSM / HSPA / LTE / 5G                   20\n",
       "GSM / CDMA / HSPA / LTE / 5G            11\n",
       "GSM / HSPA / EVDO / LTE                  6\n",
       "GSM / UMTS / LTE                         2\n",
       "GSM / LTE                                1\n",
       "Name: nettech, dtype: int64"
      ]
     },
     "execution_count": 23,
     "metadata": {},
     "output_type": "execute_result"
    }
   ],
   "source": [
    "phone_data_df['nettech'].value_counts()"
   ]
  },
  {
   "cell_type": "code",
   "execution_count": null,
   "metadata": {},
   "outputs": [],
   "source": []
  },
  {
   "cell_type": "code",
   "execution_count": null,
   "metadata": {},
   "outputs": [],
   "source": []
  },
  {
   "cell_type": "code",
   "execution_count": null,
   "metadata": {},
   "outputs": [],
   "source": []
  },
  {
   "cell_type": "code",
   "execution_count": null,
   "metadata": {},
   "outputs": [],
   "source": []
  },
  {
   "cell_type": "code",
   "execution_count": null,
   "metadata": {},
   "outputs": [],
   "source": []
  },
  {
   "cell_type": "code",
   "execution_count": null,
   "metadata": {},
   "outputs": [],
   "source": []
  },
  {
   "cell_type": "code",
   "execution_count": null,
   "metadata": {},
   "outputs": [],
   "source": []
  },
  {
   "cell_type": "code",
   "execution_count": null,
   "metadata": {},
   "outputs": [],
   "source": []
  },
  {
   "cell_type": "code",
   "execution_count": null,
   "metadata": {},
   "outputs": [],
   "source": []
  },
  {
   "cell_type": "code",
   "execution_count": null,
   "metadata": {},
   "outputs": [],
   "source": []
  },
  {
   "cell_type": "raw",
   "metadata": {},
   "source": []
  },
  {
   "cell_type": "code",
   "execution_count": null,
   "metadata": {},
   "outputs": [],
   "source": []
  },
  {
   "cell_type": "code",
   "execution_count": null,
   "metadata": {},
   "outputs": [],
   "source": []
  }
 ],
 "metadata": {
  "kernelspec": {
   "display_name": "Python 3",
   "language": "python",
   "name": "python3"
  },
  "language_info": {
   "codemirror_mode": {
    "name": "ipython",
    "version": 3
   },
   "file_extension": ".py",
   "mimetype": "text/x-python",
   "name": "python",
   "nbconvert_exporter": "python",
   "pygments_lexer": "ipython3",
   "version": "3.7.4"
  }
 },
 "nbformat": 4,
 "nbformat_minor": 2
}
