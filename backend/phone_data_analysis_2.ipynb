{
 "cells": [
  {
   "cell_type": "code",
   "execution_count": 1,
   "metadata": {},
   "outputs": [],
   "source": [
    "import pandas as pd\n",
    "import json\n",
    "from tool import load_data, store_data\n",
    "import pprint\n",
    "pp = pprint.PrettyPrinter(indent=4)"
   ]
  },
  {
   "cell_type": "code",
   "execution_count": 2,
   "metadata": {},
   "outputs": [],
   "source": [
    "phone_data_file = 'data/newPhone.json'\n",
    "\n",
    "phone_data = load_data.load_json_data(phone_data_file)\n",
    "phone_data = phone_data['pool']"
   ]
  },
  {
   "cell_type": "code",
   "execution_count": 3,
   "metadata": {},
   "outputs": [
    {
     "name": "stdout",
     "output_type": "stream",
     "text": [
      "26\n",
      "Index(['modelname', 'brand', 'url', 'img', 'nettech', 'year', 'storage', 'ram',\n",
      "       'd1', 'd2', 'd3', 'weight', 'displaysize', 'displayratio',\n",
      "       'resolution1', 'resolution2', 'cpu', 'os1', 'cam1', 'cam2', 'nfc',\n",
      "       'gps', 'battery', 'price', 'popularity', 'id'],\n",
      "      dtype='object')\n"
     ]
    }
   ],
   "source": [
    "phone_data_dict = {}\n",
    "index_id = 0\n",
    "for each_phone in phone_data:\n",
    "    index_id += 1\n",
    "    phone_data_dict[index_id] = each_phone\n",
    "\n",
    "phone_data_df = pd.DataFrame.from_dict(phone_data_dict, orient='index')\n",
    "\n",
    "print(len(phone_data_df.columns))\n",
    "print(phone_data_df.columns)"
   ]
  },
  {
   "cell_type": "code",
   "execution_count": 4,
   "metadata": {},
   "outputs": [
    {
     "data": {
      "text/html": [
       "<div>\n",
       "<style scoped>\n",
       "    .dataframe tbody tr th:only-of-type {\n",
       "        vertical-align: middle;\n",
       "    }\n",
       "\n",
       "    .dataframe tbody tr th {\n",
       "        vertical-align: top;\n",
       "    }\n",
       "\n",
       "    .dataframe thead th {\n",
       "        text-align: right;\n",
       "    }\n",
       "</style>\n",
       "<table border=\"1\" class=\"dataframe\">\n",
       "  <thead>\n",
       "    <tr style=\"text-align: right;\">\n",
       "      <th></th>\n",
       "      <th>modelname</th>\n",
       "      <th>brand</th>\n",
       "      <th>url</th>\n",
       "      <th>img</th>\n",
       "      <th>nettech</th>\n",
       "      <th>year</th>\n",
       "      <th>storage</th>\n",
       "      <th>ram</th>\n",
       "      <th>d1</th>\n",
       "      <th>d2</th>\n",
       "      <th>...</th>\n",
       "      <th>cpu</th>\n",
       "      <th>os1</th>\n",
       "      <th>cam1</th>\n",
       "      <th>cam2</th>\n",
       "      <th>nfc</th>\n",
       "      <th>gps</th>\n",
       "      <th>battery</th>\n",
       "      <th>price</th>\n",
       "      <th>popularity</th>\n",
       "      <th>id</th>\n",
       "    </tr>\n",
       "  </thead>\n",
       "  <tbody>\n",
       "    <tr>\n",
       "      <td>1</td>\n",
       "      <td>alcatel 1</td>\n",
       "      <td>alcatel</td>\n",
       "      <td>https://www.gsmarena.com/alcatel_1-9985.php</td>\n",
       "      <td>img/alcatel-1-2018.jpg</td>\n",
       "      <td>GSM / HSPA / LTE</td>\n",
       "      <td>2018, July</td>\n",
       "      <td>8GB</td>\n",
       "      <td>1GB</td>\n",
       "      <td>137.6</td>\n",
       "      <td>65.7</td>\n",
       "      <td>...</td>\n",
       "      <td>Quad-core</td>\n",
       "      <td>Android</td>\n",
       "      <td>5.0</td>\n",
       "      <td>2.0</td>\n",
       "      <td>null</td>\n",
       "      <td>Yes,</td>\n",
       "      <td>2000</td>\n",
       "      <td>69.9</td>\n",
       "      <td>28064</td>\n",
       "      <td>0</td>\n",
       "    </tr>\n",
       "    <tr>\n",
       "      <td>2</td>\n",
       "      <td>alcatel 3v</td>\n",
       "      <td>alcatel</td>\n",
       "      <td>https://www.gsmarena.com/alcatel_3v-9004.php</td>\n",
       "      <td>https://fdn2.gsmarena.com/vv/bigpic/alcatel-3v...</td>\n",
       "      <td>GSM / HSPA / LTE</td>\n",
       "      <td>2018, February</td>\n",
       "      <td>16GB</td>\n",
       "      <td>2GB</td>\n",
       "      <td>162.0</td>\n",
       "      <td>76.0</td>\n",
       "      <td>...</td>\n",
       "      <td>Quad-core</td>\n",
       "      <td>Android</td>\n",
       "      <td>12.0</td>\n",
       "      <td>5.0</td>\n",
       "      <td>Yes (5099Y only)</td>\n",
       "      <td>Yes,</td>\n",
       "      <td>3000</td>\n",
       "      <td>174.4</td>\n",
       "      <td>354018</td>\n",
       "      <td>1</td>\n",
       "    </tr>\n",
       "    <tr>\n",
       "      <td>3</td>\n",
       "      <td>alcatel 5v</td>\n",
       "      <td>alcatel</td>\n",
       "      <td>https://www.gsmarena.com/alcatel_5v-9271.php</td>\n",
       "      <td>https://fdn2.gsmarena.com/vv/bigpic/alcatel-5v...</td>\n",
       "      <td>GSM / HSPA / LTE</td>\n",
       "      <td>2018, July</td>\n",
       "      <td>32GB</td>\n",
       "      <td>3GB</td>\n",
       "      <td>153.7</td>\n",
       "      <td>74.5</td>\n",
       "      <td>...</td>\n",
       "      <td>Octa-core</td>\n",
       "      <td>Android</td>\n",
       "      <td>12.0</td>\n",
       "      <td>8.0</td>\n",
       "      <td>Yes</td>\n",
       "      <td>Yes,</td>\n",
       "      <td>4000</td>\n",
       "      <td>196.2</td>\n",
       "      <td>247639</td>\n",
       "      <td>2</td>\n",
       "    </tr>\n",
       "    <tr>\n",
       "      <td>4</td>\n",
       "      <td>alcatel 3c</td>\n",
       "      <td>alcatel</td>\n",
       "      <td>https://www.gsmarena.com/alcatel_3c-8989.php</td>\n",
       "      <td>https://fdn2.gsmarena.com/vv/bigpic/alcatel-3c...</td>\n",
       "      <td>GSM / HSPA / LTE</td>\n",
       "      <td>2018, January</td>\n",
       "      <td>16GB</td>\n",
       "      <td>1GB</td>\n",
       "      <td>161.0</td>\n",
       "      <td>76.0</td>\n",
       "      <td>...</td>\n",
       "      <td>Quad-core</td>\n",
       "      <td>Android</td>\n",
       "      <td>8.0</td>\n",
       "      <td>5.0</td>\n",
       "      <td>null</td>\n",
       "      <td>Yes,</td>\n",
       "      <td>3000</td>\n",
       "      <td>141.7</td>\n",
       "      <td>198348</td>\n",
       "      <td>3</td>\n",
       "    </tr>\n",
       "    <tr>\n",
       "      <td>5</td>\n",
       "      <td>alcatel Tetra</td>\n",
       "      <td>alcatel</td>\n",
       "      <td>https://www.gsmarena.com/alcatel_tetra-9574.php</td>\n",
       "      <td>https://fdn2.gsmarena.com/vv/bigpic/alcatel-te...</td>\n",
       "      <td>GSM / HSPA / LTE</td>\n",
       "      <td>2018, September</td>\n",
       "      <td>16GB</td>\n",
       "      <td>2GB</td>\n",
       "      <td>142.5</td>\n",
       "      <td>71.9</td>\n",
       "      <td>...</td>\n",
       "      <td>Quad-core</td>\n",
       "      <td>Android</td>\n",
       "      <td>5.0</td>\n",
       "      <td>2.0</td>\n",
       "      <td>null</td>\n",
       "      <td>Yes,</td>\n",
       "      <td>2050</td>\n",
       "      <td>50.0</td>\n",
       "      <td>52657</td>\n",
       "      <td>4</td>\n",
       "    </tr>\n",
       "    <tr>\n",
       "      <td>...</td>\n",
       "      <td>...</td>\n",
       "      <td>...</td>\n",
       "      <td>...</td>\n",
       "      <td>...</td>\n",
       "      <td>...</td>\n",
       "      <td>...</td>\n",
       "      <td>...</td>\n",
       "      <td>...</td>\n",
       "      <td>...</td>\n",
       "      <td>...</td>\n",
       "      <td>...</td>\n",
       "      <td>...</td>\n",
       "      <td>...</td>\n",
       "      <td>...</td>\n",
       "      <td>...</td>\n",
       "      <td>...</td>\n",
       "      <td>...</td>\n",
       "      <td>...</td>\n",
       "      <td>...</td>\n",
       "      <td>...</td>\n",
       "      <td>...</td>\n",
       "    </tr>\n",
       "    <tr>\n",
       "      <td>995</td>\n",
       "      <td>vivo NEX 3S 5G</td>\n",
       "      <td>vivo</td>\n",
       "      <td>https://www.gsmarena.com/vivo_nex_3s_5g-10122.php</td>\n",
       "      <td>https://fdn2.gsmarena.com/vv/bigpic/vivo-nex-3...</td>\n",
       "      <td>GSM / CDMA / HSPA / EVDO / LTE / 5G</td>\n",
       "      <td>2020, March 10</td>\n",
       "      <td>256GB</td>\n",
       "      <td>8GB</td>\n",
       "      <td>167.4</td>\n",
       "      <td>76.1</td>\n",
       "      <td>...</td>\n",
       "      <td>Octa-core</td>\n",
       "      <td>Android</td>\n",
       "      <td>64.0</td>\n",
       "      <td>16.0</td>\n",
       "      <td>Yes</td>\n",
       "      <td>Yes,</td>\n",
       "      <td>4500</td>\n",
       "      <td>686.7</td>\n",
       "      <td>128187</td>\n",
       "      <td>994</td>\n",
       "    </tr>\n",
       "    <tr>\n",
       "      <td>996</td>\n",
       "      <td>Vodafone Smart X9</td>\n",
       "      <td>Vodafone</td>\n",
       "      <td>https://www.gsmarena.com/vodafone_smart_x9-948...</td>\n",
       "      <td>https://fdn2.gsmarena.com/vv/bigpic/vodafone-s...</td>\n",
       "      <td>GSM / HSPA / LTE</td>\n",
       "      <td>2018, December</td>\n",
       "      <td>32GB</td>\n",
       "      <td>3GB</td>\n",
       "      <td>148.2</td>\n",
       "      <td>71.3</td>\n",
       "      <td>...</td>\n",
       "      <td>Octa-core</td>\n",
       "      <td>Android</td>\n",
       "      <td>16.0</td>\n",
       "      <td>8.0</td>\n",
       "      <td>Yes</td>\n",
       "      <td>Yes,</td>\n",
       "      <td>3100</td>\n",
       "      <td>119.9</td>\n",
       "      <td>134398</td>\n",
       "      <td>995</td>\n",
       "    </tr>\n",
       "    <tr>\n",
       "      <td>997</td>\n",
       "      <td>Vodafone Smart N9</td>\n",
       "      <td>Vodafone</td>\n",
       "      <td>https://www.gsmarena.com/vodafone_smart_n9-923...</td>\n",
       "      <td>https://fdn2.gsmarena.com/vv/bigpic/vodafone-s...</td>\n",
       "      <td>GSM / HSPA / LTE</td>\n",
       "      <td>2018, June</td>\n",
       "      <td>16GB</td>\n",
       "      <td>2GB</td>\n",
       "      <td>147.1</td>\n",
       "      <td>68.8</td>\n",
       "      <td>...</td>\n",
       "      <td>Quad-core</td>\n",
       "      <td>Android</td>\n",
       "      <td>13.0</td>\n",
       "      <td>8.0</td>\n",
       "      <td>Yes</td>\n",
       "      <td>Yes,</td>\n",
       "      <td>2900</td>\n",
       "      <td>130.8</td>\n",
       "      <td>192821</td>\n",
       "      <td>996</td>\n",
       "    </tr>\n",
       "    <tr>\n",
       "      <td>998</td>\n",
       "      <td>Wiko View</td>\n",
       "      <td>Wiko</td>\n",
       "      <td>https://www.gsmarena.com/wiko_view-8991.php</td>\n",
       "      <td>https://fdn2.gsmarena.com/vv/bigpic/wiko-v.jpg</td>\n",
       "      <td>GSM / HSPA / LTE</td>\n",
       "      <td>2017, September</td>\n",
       "      <td>16GB</td>\n",
       "      <td>3GB</td>\n",
       "      <td>151.5</td>\n",
       "      <td>73.1</td>\n",
       "      <td>...</td>\n",
       "      <td>Quad-core</td>\n",
       "      <td>Android</td>\n",
       "      <td>13.0</td>\n",
       "      <td>16.0</td>\n",
       "      <td>null</td>\n",
       "      <td>Yes,</td>\n",
       "      <td>2900</td>\n",
       "      <td>163.5</td>\n",
       "      <td>101279</td>\n",
       "      <td>997</td>\n",
       "    </tr>\n",
       "    <tr>\n",
       "      <td>999</td>\n",
       "      <td>Wiko View2 Pro</td>\n",
       "      <td>Wiko</td>\n",
       "      <td>https://www.gsmarena.com/wiko_view2_pro-9104.php</td>\n",
       "      <td>https://fdn2.gsmarena.com/vv/bigpic/wiko-view2...</td>\n",
       "      <td>GSM / HSPA / LTE</td>\n",
       "      <td>2018, February</td>\n",
       "      <td>64GB</td>\n",
       "      <td>4GB</td>\n",
       "      <td>153.0</td>\n",
       "      <td>72.6</td>\n",
       "      <td>...</td>\n",
       "      <td>Octa-core</td>\n",
       "      <td>Android</td>\n",
       "      <td>16.0</td>\n",
       "      <td>16.0</td>\n",
       "      <td>Yes</td>\n",
       "      <td>Yes,</td>\n",
       "      <td>3000</td>\n",
       "      <td>327.0</td>\n",
       "      <td>221368</td>\n",
       "      <td>998</td>\n",
       "    </tr>\n",
       "  </tbody>\n",
       "</table>\n",
       "<p>999 rows × 26 columns</p>\n",
       "</div>"
      ],
      "text/plain": [
       "             modelname     brand  \\\n",
       "1            alcatel 1   alcatel   \n",
       "2           alcatel 3v   alcatel   \n",
       "3           alcatel 5v   alcatel   \n",
       "4           alcatel 3c   alcatel   \n",
       "5        alcatel Tetra   alcatel   \n",
       "..                 ...       ...   \n",
       "995     vivo NEX 3S 5G      vivo   \n",
       "996  Vodafone Smart X9  Vodafone   \n",
       "997  Vodafone Smart N9  Vodafone   \n",
       "998          Wiko View      Wiko   \n",
       "999     Wiko View2 Pro      Wiko   \n",
       "\n",
       "                                                   url  \\\n",
       "1          https://www.gsmarena.com/alcatel_1-9985.php   \n",
       "2         https://www.gsmarena.com/alcatel_3v-9004.php   \n",
       "3         https://www.gsmarena.com/alcatel_5v-9271.php   \n",
       "4         https://www.gsmarena.com/alcatel_3c-8989.php   \n",
       "5      https://www.gsmarena.com/alcatel_tetra-9574.php   \n",
       "..                                                 ...   \n",
       "995  https://www.gsmarena.com/vivo_nex_3s_5g-10122.php   \n",
       "996  https://www.gsmarena.com/vodafone_smart_x9-948...   \n",
       "997  https://www.gsmarena.com/vodafone_smart_n9-923...   \n",
       "998        https://www.gsmarena.com/wiko_view-8991.php   \n",
       "999   https://www.gsmarena.com/wiko_view2_pro-9104.php   \n",
       "\n",
       "                                                   img  \\\n",
       "1                               img/alcatel-1-2018.jpg   \n",
       "2    https://fdn2.gsmarena.com/vv/bigpic/alcatel-3v...   \n",
       "3    https://fdn2.gsmarena.com/vv/bigpic/alcatel-5v...   \n",
       "4    https://fdn2.gsmarena.com/vv/bigpic/alcatel-3c...   \n",
       "5    https://fdn2.gsmarena.com/vv/bigpic/alcatel-te...   \n",
       "..                                                 ...   \n",
       "995  https://fdn2.gsmarena.com/vv/bigpic/vivo-nex-3...   \n",
       "996  https://fdn2.gsmarena.com/vv/bigpic/vodafone-s...   \n",
       "997  https://fdn2.gsmarena.com/vv/bigpic/vodafone-s...   \n",
       "998     https://fdn2.gsmarena.com/vv/bigpic/wiko-v.jpg   \n",
       "999  https://fdn2.gsmarena.com/vv/bigpic/wiko-view2...   \n",
       "\n",
       "                                 nettech             year storage  ram     d1  \\\n",
       "1                       GSM / HSPA / LTE       2018, July     8GB  1GB  137.6   \n",
       "2                       GSM / HSPA / LTE   2018, February    16GB  2GB  162.0   \n",
       "3                       GSM / HSPA / LTE       2018, July    32GB  3GB  153.7   \n",
       "4                       GSM / HSPA / LTE    2018, January    16GB  1GB  161.0   \n",
       "5                       GSM / HSPA / LTE  2018, September    16GB  2GB  142.5   \n",
       "..                                   ...              ...     ...  ...    ...   \n",
       "995  GSM / CDMA / HSPA / EVDO / LTE / 5G   2020, March 10   256GB  8GB  167.4   \n",
       "996                     GSM / HSPA / LTE   2018, December    32GB  3GB  148.2   \n",
       "997                     GSM / HSPA / LTE       2018, June    16GB  2GB  147.1   \n",
       "998                     GSM / HSPA / LTE  2017, September    16GB  3GB  151.5   \n",
       "999                     GSM / HSPA / LTE   2018, February    64GB  4GB  153.0   \n",
       "\n",
       "       d2  ...        cpu      os1  cam1  cam2               nfc   gps  \\\n",
       "1    65.7  ...  Quad-core  Android   5.0   2.0              null  Yes,   \n",
       "2    76.0  ...  Quad-core  Android  12.0   5.0  Yes (5099Y only)  Yes,   \n",
       "3    74.5  ...  Octa-core  Android  12.0   8.0               Yes  Yes,   \n",
       "4    76.0  ...  Quad-core  Android   8.0   5.0              null  Yes,   \n",
       "5    71.9  ...  Quad-core  Android   5.0   2.0              null  Yes,   \n",
       "..    ...  ...        ...      ...   ...   ...               ...   ...   \n",
       "995  76.1  ...  Octa-core  Android  64.0  16.0               Yes  Yes,   \n",
       "996  71.3  ...  Octa-core  Android  16.0   8.0               Yes  Yes,   \n",
       "997  68.8  ...  Quad-core  Android  13.0   8.0               Yes  Yes,   \n",
       "998  73.1  ...  Quad-core  Android  13.0  16.0              null  Yes,   \n",
       "999  72.6  ...  Octa-core  Android  16.0  16.0               Yes  Yes,   \n",
       "\n",
       "    battery  price  popularity   id  \n",
       "1      2000   69.9       28064    0  \n",
       "2      3000  174.4      354018    1  \n",
       "3      4000  196.2      247639    2  \n",
       "4      3000  141.7      198348    3  \n",
       "5      2050   50.0       52657    4  \n",
       "..      ...    ...         ...  ...  \n",
       "995    4500  686.7      128187  994  \n",
       "996    3100  119.9      134398  995  \n",
       "997    2900  130.8      192821  996  \n",
       "998    2900  163.5      101279  997  \n",
       "999    3000  327.0      221368  998  \n",
       "\n",
       "[999 rows x 26 columns]"
      ]
     },
     "execution_count": 4,
     "metadata": {},
     "output_type": "execute_result"
    }
   ],
   "source": [
    "phone_data_df"
   ]
  },
  {
   "cell_type": "code",
   "execution_count": 5,
   "metadata": {},
   "outputs": [],
   "source": [
    "# new Phone data - numerical attributes - descriptive analysis\n",
    "# print(phone_data_df.describe())"
   ]
  },
  {
   "cell_type": "markdown",
   "metadata": {},
   "source": [
    "### Data Transformation"
   ]
  },
  {
   "cell_type": "code",
   "execution_count": 6,
   "metadata": {},
   "outputs": [],
   "source": [
    "new_categorical_attributes = ['brand','nettech','os1', 'nfc', 'year', 'fullscreen']\n",
    "new_numerical_attributes = ['phone_size','phone_thickness','phone_weight', 'resolution', 'camera', 'storage', 'ram','displaysize', 'battery', 'price','popularity']"
   ]
  },
  {
   "cell_type": "code",
   "execution_count": null,
   "metadata": {},
   "outputs": [],
   "source": []
  },
  {
   "cell_type": "markdown",
   "metadata": {},
   "source": [
    "#### Categorical Attributes"
   ]
  },
  {
   "cell_type": "code",
   "execution_count": 7,
   "metadata": {},
   "outputs": [],
   "source": [
    "# phone_data_df['brand'].value_counts()"
   ]
  },
  {
   "cell_type": "code",
   "execution_count": 8,
   "metadata": {},
   "outputs": [],
   "source": [
    "# phone_data_df['nettech'].value_counts() "
   ]
  },
  {
   "cell_type": "code",
   "execution_count": 9,
   "metadata": {},
   "outputs": [],
   "source": [
    "# phone_data_df['os1'].value_counts() "
   ]
  },
  {
   "cell_type": "code",
   "execution_count": 10,
   "metadata": {},
   "outputs": [],
   "source": [
    "# nfc\n",
    "# Transformation: convert nfc description into 'true' or 'false' (type: strin)\n",
    "# phone_data_df['nfc'].value_counts()\n",
    "\n",
    "nfc_label_list = [0]\n",
    "\n",
    "for i in range(1, len(phone_data_df)+1):\n",
    "    i_nfc = phone_data_df['nfc'][i]\n",
    "    if i_nfc == 'null' or i_nfc == 'No':\n",
    "        nfc_label_list.append('false')\n",
    "    elif 'Yes' in i_nfc:\n",
    "        nfc_label_list.append('true')\n",
    "    else:\n",
    "        print(i_nfc)\n",
    "        input()\n",
    "phone_data_df['nfc_details'] = phone_data_df['nfc']\n",
    "phone_data_df['nfc'] = pd.Series(nfc_label_list)\n"
   ]
  },
  {
   "cell_type": "code",
   "execution_count": 11,
   "metadata": {},
   "outputs": [],
   "source": [
    "# phone_data_df[['nfc','nfc_details']]"
   ]
  },
  {
   "cell_type": "code",
   "execution_count": 12,
   "metadata": {},
   "outputs": [],
   "source": [
    "# Year\n",
    "# Transformation: convert year description into particular year (Type: string)\n",
    "import time, datetime\n",
    "import re\n",
    "\n",
    "number_pattern = re.compile(r'\\d+')   # 查找数字\n",
    "year_data = phone_data_df['year']\n",
    "\n",
    "transformed_published_date = [0]\n",
    "extracted_year = [0]\n",
    "for i in range(1, len(year_data)+1):\n",
    "    data_split = year_data[i].split(',')\n",
    "    year = data_split[0].strip()\n",
    "    extracted_year.append(year)\n",
    "phone_data_df['year_details'] = phone_data_df['year'] \n",
    "phone_data_df['year'] =  pd.Series(extracted_year)"
   ]
  },
  {
   "cell_type": "code",
   "execution_count": 13,
   "metadata": {},
   "outputs": [
    {
     "data": {
      "text/plain": [
       "2019    338\n",
       "2018    320\n",
       "2017    273\n",
       "2020     68\n",
       "Name: year, dtype: int64"
      ]
     },
     "execution_count": 13,
     "metadata": {},
     "output_type": "execute_result"
    }
   ],
   "source": [
    "phone_data_df['year'].value_counts()"
   ]
  },
  {
   "cell_type": "code",
   "execution_count": 14,
   "metadata": {},
   "outputs": [],
   "source": [
    "# displayratio -> fullscreen or not\n",
    "# Transformation: convert displayratio description into label \"fullscreen\" ['true' or 'false'] (Type: string)\n",
    "# resources: https://www.kxdmobiles.com/whats-a-full-screen-smartphone/\n",
    "number_displayratio_list = [0]\n",
    "for i in range(1, len(phone_data_df)+1):\n",
    "    i_displayratio = phone_data_df['displayratio'][i]\n",
    "    number_displayratio = float(i_displayratio.replace(\"%\", \"\"))\n",
    "    number_displayratio_list.append(number_displayratio)\n",
    "phone_data_df['displayratio_'] = pd.Series(number_displayratio_list)\n",
    "\n",
    "fullscreen_label_list = [0]\n",
    "for i in range(1, len(phone_data_df)+1):\n",
    "    i_displayratio = phone_data_df['displayratio_'][i]\n",
    "    if i_displayratio < 85:\n",
    "        fullscreen_label_list.append('false')\n",
    "    else:\n",
    "        fullscreen_label_list.append('true')\n",
    "phone_data_df['fullscreen'] =  pd.Series(fullscreen_label_list)"
   ]
  },
  {
   "cell_type": "code",
   "execution_count": 15,
   "metadata": {},
   "outputs": [
    {
     "data": {
      "text/plain": [
       "false    869\n",
       "true     130\n",
       "Name: fullscreen, dtype: int64"
      ]
     },
     "execution_count": 15,
     "metadata": {},
     "output_type": "execute_result"
    }
   ],
   "source": [
    "phone_data_df['fullscreen'].value_counts()"
   ]
  },
  {
   "cell_type": "code",
   "execution_count": null,
   "metadata": {},
   "outputs": [],
   "source": []
  },
  {
   "cell_type": "markdown",
   "metadata": {},
   "source": [
    "#### Numerical Attributes - Range"
   ]
  },
  {
   "cell_type": "code",
   "execution_count": 16,
   "metadata": {},
   "outputs": [],
   "source": [
    "# function: convert numerical numbers into a particular rank level - and return the cutting bin edges\n",
    "def convert_to_rank(data_df, number_rank):\n",
    "    label_rank = list(range(1, number_rank+1))\n",
    "    quantile_list = [x/number_rank for x in range(0, number_rank+1)]\n",
    "    print('quantile_list:', quantile_list)\n",
    "    results, bin_edges = pd.qcut(data_df,\n",
    "                            q=quantile_list,\n",
    "                            labels = label_rank,\n",
    "                            retbins=True)\n",
    "    return results, bin_edges\n"
   ]
  },
  {
   "cell_type": "code",
   "execution_count": 17,
   "metadata": {},
   "outputs": [],
   "source": [
    "numerical_bin_edges_dict = {}"
   ]
  },
  {
   "cell_type": "markdown",
   "metadata": {},
   "source": [
    "#### Numerical Attributes - Discrete"
   ]
  },
  {
   "cell_type": "markdown",
   "metadata": {},
   "source": [
    "Storage (\"storage\")"
   ]
  },
  {
   "cell_type": "code",
   "execution_count": 18,
   "metadata": {},
   "outputs": [],
   "source": [
    "# storage - type: int\n",
    "number_storage_list = [0]\n",
    "for i in range(1, len(phone_data_df['storage'])+1):\n",
    "    i_storage = phone_data_df['storage'][i]\n",
    "    number_storage = int(number_pattern.findall(i_storage)[0])\n",
    "    number_storage_list.append(number_storage)\n",
    "phone_data_df['storage'] = pd.Series(number_storage_list)"
   ]
  },
  {
   "cell_type": "code",
   "execution_count": 19,
   "metadata": {},
   "outputs": [
    {
     "data": {
      "text/plain": [
       "count    999.000000\n",
       "mean      63.131131\n",
       "std       56.987270\n",
       "min        4.000000\n",
       "25%       32.000000\n",
       "50%       64.000000\n",
       "75%       64.000000\n",
       "max      512.000000\n",
       "Name: storage, dtype: float64"
      ]
     },
     "execution_count": 19,
     "metadata": {},
     "output_type": "execute_result"
    }
   ],
   "source": [
    "phone_data_df['storage'].describe()"
   ]
  },
  {
   "cell_type": "code",
   "execution_count": 20,
   "metadata": {},
   "outputs": [
    {
     "name": "stdout",
     "output_type": "stream",
     "text": [
      "storage\n",
      "quantile_list: [0.0, 0.2, 0.4, 0.6, 0.8, 1.0]\n",
      "bin_edges: [  4.  16.  32.  64. 128. 512.]\n",
      "3    319\n",
      "2    258\n",
      "1    215\n",
      "4    178\n",
      "5     29\n",
      "Name: storage, dtype: int64\n"
     ]
    }
   ],
   "source": [
    "attribute = 'storage'\n",
    "print(attribute)\n",
    "number_rank = 5\n",
    "results, bin_edges = convert_to_rank(phone_data_df[attribute], number_rank)\n",
    "phone_data_df[attribute] = results\n",
    "numerical_bin_edges_dict[attribute] = bin_edges\n",
    "print('bin_edges:', bin_edges)\n",
    "print(phone_data_df[attribute].value_counts())"
   ]
  },
  {
   "cell_type": "code",
   "execution_count": null,
   "metadata": {},
   "outputs": [],
   "source": []
  },
  {
   "cell_type": "markdown",
   "metadata": {},
   "source": [
    "Random Access Memory (\"ram\") "
   ]
  },
  {
   "cell_type": "code",
   "execution_count": 21,
   "metadata": {},
   "outputs": [],
   "source": [
    "# ram - type: float\n",
    "phone_data_df['ram'].value_counts()\n",
    "number_ram_list = [0]\n",
    "for i in range(1, len(phone_data_df)+1):\n",
    "    i_ram = phone_data_df['ram'][i]\n",
    "    if i_ram == '1.5GB':\n",
    "        number_ram = 1.5\n",
    "    elif i_ram == '512MB':\n",
    "        number_ram = 0.5\n",
    "    else:\n",
    "        number_ram = int(number_pattern.findall(i_ram)[0])\n",
    "    number_ram_list.append(number_ram)\n",
    "phone_data_df['ram'] = pd.Series(number_ram_list)"
   ]
  },
  {
   "cell_type": "code",
   "execution_count": 22,
   "metadata": {},
   "outputs": [
    {
     "name": "stdout",
     "output_type": "stream",
     "text": [
      "ram\n",
      "quantile_list: [0.0, 0.2, 0.4, 0.6, 0.8, 1.0]\n",
      "bin_edges: [ 0.5  2.   3.   4.   6.  12. ]\n",
      "3    277\n",
      "1    244\n",
      "2    206\n",
      "4    180\n",
      "5     92\n",
      "Name: ram, dtype: int64\n"
     ]
    }
   ],
   "source": [
    "attribute = 'ram'\n",
    "print(attribute)\n",
    "number_rank = 5\n",
    "results, bin_edges = convert_to_rank(phone_data_df[attribute], number_rank)\n",
    "phone_data_df[attribute] = results\n",
    "numerical_bin_edges_dict[attribute] = bin_edges\n",
    "print('bin_edges:', bin_edges)\n",
    "print(phone_data_df[attribute].value_counts())"
   ]
  },
  {
   "cell_type": "code",
   "execution_count": null,
   "metadata": {},
   "outputs": [],
   "source": []
  },
  {
   "cell_type": "markdown",
   "metadata": {},
   "source": [
    "#### Numerical Attributes - Range"
   ]
  },
  {
   "cell_type": "markdown",
   "metadata": {},
   "source": [
    "1. Phone Size"
   ]
  },
  {
   "cell_type": "code",
   "execution_count": 35,
   "metadata": {},
   "outputs": [],
   "source": [
    "# phone_data_df.boxplot(['d1','d2', 'd3'])\n",
    "# print(phone_data_df[['d1','d2', 'd3']].describe())\n",
    "# print(phone_data_df[['d1','d2', 'd3']].corr(method='pearson'))\n",
    "import math\n",
    "\n",
    "d1_d2 = [0]\n",
    "for i in range(1, len(phone_data_df)+1):\n",
    "    d1 = phone_data_df['d1'][i]\n",
    "    d2 = phone_data_df['d2'][i]\n",
    "    d = round(math.sqrt(math.pow(d1,2) + math.pow(d2,2)),1)\n",
    "    d1_d2.append(d)\n",
    "    \n",
    "phone_data_df['phone_size'] = pd.Series(d1_d2)"
   ]
  },
  {
   "cell_type": "code",
   "execution_count": 36,
   "metadata": {},
   "outputs": [
    {
     "data": {
      "text/plain": [
       "count    999.000000\n",
       "mean     171.487788\n",
       "std        7.913986\n",
       "min      109.100000\n",
       "25%      166.600000\n",
       "50%      172.700000\n",
       "75%      175.900000\n",
       "max      199.500000\n",
       "Name: phone_size, dtype: float64"
      ]
     },
     "execution_count": 36,
     "metadata": {},
     "output_type": "execute_result"
    }
   ],
   "source": [
    "phone_data_df['phone_size'].describe()"
   ]
  },
  {
   "cell_type": "code",
   "execution_count": null,
   "metadata": {},
   "outputs": [],
   "source": []
  },
  {
   "cell_type": "code",
   "execution_count": 37,
   "metadata": {},
   "outputs": [
    {
     "name": "stdout",
     "output_type": "stream",
     "text": [
      "phone_size\n",
      "quantile_list: [0.0, 0.2, 0.4, 0.6, 0.8, 1.0]\n",
      "bin_edges: [109.1  165.   171.3  173.98 176.7  199.5 ]\n"
     ]
    }
   ],
   "source": [
    "attribute = 'phone_size'\n",
    "print(attribute)\n",
    "number_rank = 5\n",
    "results, bin_edges = convert_to_rank(phone_data_df[attribute], number_rank)\n",
    "phone_data_df[attribute] = results\n",
    "numerical_bin_edges_dict[attribute] = bin_edges\n",
    "print('bin_edges:', bin_edges)"
   ]
  },
  {
   "cell_type": "code",
   "execution_count": 38,
   "metadata": {},
   "outputs": [
    {
     "data": {
      "text/plain": [
       "4    205\n",
       "1    204\n",
       "2    203\n",
       "5    195\n",
       "3    192\n",
       "Name: phone_size, dtype: int64"
      ]
     },
     "execution_count": 38,
     "metadata": {},
     "output_type": "execute_result"
    }
   ],
   "source": [
    "phone_data_df['phone_size'].value_counts()"
   ]
  },
  {
   "cell_type": "code",
   "execution_count": null,
   "metadata": {},
   "outputs": [],
   "source": []
  },
  {
   "cell_type": "markdown",
   "metadata": {},
   "source": [
    "2. Phone Thickness"
   ]
  },
  {
   "cell_type": "code",
   "execution_count": 41,
   "metadata": {},
   "outputs": [],
   "source": [
    "phone_data_df['phone_thickness'] = phone_data_df['d3']"
   ]
  },
  {
   "cell_type": "code",
   "execution_count": 42,
   "metadata": {},
   "outputs": [
    {
     "name": "stdout",
     "output_type": "stream",
     "text": [
      "phone_thickness\n",
      "quantile_list: [0.0, 0.2, 0.4, 0.6, 0.8, 1.0]\n",
      "bin_edges: [ 6.   7.8  8.1  8.5  8.9 18. ]\n"
     ]
    }
   ],
   "source": [
    "attribute = 'phone_thickness'\n",
    "print(attribute)\n",
    "number_rank = 5\n",
    "results, bin_edges = convert_to_rank(phone_data_df[attribute], number_rank)\n",
    "phone_data_df[attribute] = results\n",
    "numerical_bin_edges_dict[attribute] = bin_edges\n",
    "print('bin_edges:', bin_edges)"
   ]
  },
  {
   "cell_type": "markdown",
   "metadata": {},
   "source": [
    "3. Weight"
   ]
  },
  {
   "cell_type": "code",
   "execution_count": 43,
   "metadata": {},
   "outputs": [],
   "source": [
    "# Disribution of Weight\n",
    "# phone_data_df.boxplot(['weight'])\n",
    "# phone_data_df['weight'].describe()\n",
    "phone_data_df['phone_weight'] = phone_data_df['weight']"
   ]
  },
  {
   "cell_type": "code",
   "execution_count": 44,
   "metadata": {},
   "outputs": [
    {
     "name": "stdout",
     "output_type": "stream",
     "text": [
      "phone_weight\n",
      "quantile_list: [0.0, 0.2, 0.4, 0.6, 0.8, 1.0]\n",
      "bin_edges: [ 62.5 152.  165.  176.  190.  469. ]\n"
     ]
    }
   ],
   "source": [
    "attribute = 'phone_weight'\n",
    "print(attribute)\n",
    "number_rank = 5\n",
    "results, bin_edges = convert_to_rank(phone_data_df[attribute], number_rank)\n",
    "phone_data_df[attribute] = results\n",
    "numerical_bin_edges_dict[attribute] = bin_edges\n",
    "print('bin_edges:', bin_edges)"
   ]
  },
  {
   "cell_type": "code",
   "execution_count": 45,
   "metadata": {},
   "outputs": [
    {
     "data": {
      "text/plain": [
       "2    211\n",
       "1    206\n",
       "4    196\n",
       "5    193\n",
       "3    193\n",
       "Name: phone_weight, dtype: int64"
      ]
     },
     "execution_count": 45,
     "metadata": {},
     "output_type": "execute_result"
    }
   ],
   "source": [
    "phone_data_df['phone_weight'].value_counts()"
   ]
  },
  {
   "cell_type": "code",
   "execution_count": null,
   "metadata": {},
   "outputs": [],
   "source": []
  },
  {
   "cell_type": "markdown",
   "metadata": {},
   "source": [
    "4. Resolution"
   ]
  },
  {
   "cell_type": "code",
   "execution_count": 46,
   "metadata": {},
   "outputs": [],
   "source": [
    "# phone_data_df.boxplot(['resolution1'])\n",
    "# phone_data_df['resolution1'].value_counts()\n",
    "phone_data_df['resolution'] = phone_data_df['resolution1']"
   ]
  },
  {
   "cell_type": "code",
   "execution_count": 47,
   "metadata": {},
   "outputs": [
    {
     "name": "stdout",
     "output_type": "stream",
     "text": [
      "resolution\n",
      "quantile_list: [0.0, 0.3333333333333333, 0.6666666666666666, 1.0]\n",
      "bin_edges: [ 240.  720. 1080. 3840.]\n"
     ]
    }
   ],
   "source": [
    "attribute = 'resolution'\n",
    "print(attribute)\n",
    "number_rank = 3\n",
    "results, bin_edges = convert_to_rank(phone_data_df[attribute], number_rank)\n",
    "phone_data_df[attribute] = results\n",
    "numerical_bin_edges_dict[attribute] = bin_edges\n",
    "print('bin_edges:', bin_edges)"
   ]
  },
  {
   "cell_type": "code",
   "execution_count": 48,
   "metadata": {},
   "outputs": [
    {
     "data": {
      "text/plain": [
       "2    521\n",
       "1    397\n",
       "3     81\n",
       "Name: resolution, dtype: int64"
      ]
     },
     "execution_count": 48,
     "metadata": {},
     "output_type": "execute_result"
    }
   ],
   "source": [
    "phone_data_df['resolution'].value_counts()"
   ]
  },
  {
   "cell_type": "markdown",
   "metadata": {},
   "source": [
    "5. Displaysize"
   ]
  },
  {
   "cell_type": "code",
   "execution_count": 49,
   "metadata": {},
   "outputs": [
    {
     "name": "stdout",
     "output_type": "stream",
     "text": [
      "displaysize\n",
      "quantile_list: [0.0, 0.2, 0.4, 0.6, 0.8, 1.0]\n",
      "bin_edges: [2.8 5.5 5.8 6.2 6.4 7.3]\n"
     ]
    }
   ],
   "source": [
    "attribute = 'displaysize'\n",
    "print(attribute)\n",
    "number_rank = 5\n",
    "results, bin_edges = convert_to_rank(phone_data_df[attribute], number_rank)\n",
    "phone_data_df[attribute] = results\n",
    "numerical_bin_edges_dict[attribute] = bin_edges\n",
    "print('bin_edges:', bin_edges)"
   ]
  },
  {
   "cell_type": "markdown",
   "metadata": {},
   "source": [
    "6. Camera"
   ]
  },
  {
   "cell_type": "code",
   "execution_count": 50,
   "metadata": {},
   "outputs": [],
   "source": [
    "phone_data_df['camera'] = phone_data_df['cam1']"
   ]
  },
  {
   "cell_type": "code",
   "execution_count": 51,
   "metadata": {},
   "outputs": [
    {
     "name": "stdout",
     "output_type": "stream",
     "text": [
      "camera\n",
      "quantile_list: [0.0, 0.25, 0.5, 0.75, 1.0]\n",
      "bin_edges: [  2.  12.  13.  16. 108.]\n"
     ]
    }
   ],
   "source": [
    "attribute = 'camera'\n",
    "print(attribute)\n",
    "number_rank = 4\n",
    "results, bin_edges = convert_to_rank(phone_data_df[attribute], number_rank)\n",
    "phone_data_df[attribute] = results\n",
    "numerical_bin_edges_dict[attribute] = bin_edges\n",
    "print('bin_edges:', bin_edges)"
   ]
  },
  {
   "cell_type": "code",
   "execution_count": 52,
   "metadata": {},
   "outputs": [
    {
     "data": {
      "text/plain": [
       "2    309\n",
       "1    308\n",
       "4    220\n",
       "3    162\n",
       "Name: camera, dtype: int64"
      ]
     },
     "execution_count": 52,
     "metadata": {},
     "output_type": "execute_result"
    }
   ],
   "source": [
    "phone_data_df['camera'].value_counts()"
   ]
  },
  {
   "cell_type": "markdown",
   "metadata": {},
   "source": [
    "7. Battery"
   ]
  },
  {
   "cell_type": "code",
   "execution_count": 58,
   "metadata": {},
   "outputs": [
    {
     "name": "stdout",
     "output_type": "stream",
     "text": [
      "battery\n",
      "quantile_list: [0.0, 0.2, 0.4, 0.6, 0.8, 1.0]\n"
     ]
    },
    {
     "ename": "ValueError",
     "evalue": "Bin edges must be unique: array([1. , 1. , 2. , 3.8, 4. , 5. ]).\nYou can drop duplicate edges by setting the 'duplicates' kwarg",
     "output_type": "error",
     "traceback": [
      "\u001b[1;31m---------------------------------------------------------------------------\u001b[0m",
      "\u001b[1;31mValueError\u001b[0m                                Traceback (most recent call last)",
      "\u001b[1;32m<ipython-input-58-852b127edb56>\u001b[0m in \u001b[0;36m<module>\u001b[1;34m\u001b[0m\n\u001b[0;32m      2\u001b[0m \u001b[0mprint\u001b[0m\u001b[1;33m(\u001b[0m\u001b[0mattribute\u001b[0m\u001b[1;33m)\u001b[0m\u001b[1;33m\u001b[0m\u001b[1;33m\u001b[0m\u001b[0m\n\u001b[0;32m      3\u001b[0m \u001b[0mnumber_rank\u001b[0m \u001b[1;33m=\u001b[0m \u001b[1;36m5\u001b[0m\u001b[1;33m\u001b[0m\u001b[1;33m\u001b[0m\u001b[0m\n\u001b[1;32m----> 4\u001b[1;33m \u001b[0mresults\u001b[0m\u001b[1;33m,\u001b[0m \u001b[0mbin_edges\u001b[0m \u001b[1;33m=\u001b[0m \u001b[0mconvert_to_rank\u001b[0m\u001b[1;33m(\u001b[0m\u001b[0mphone_data_df\u001b[0m\u001b[1;33m[\u001b[0m\u001b[0mattribute\u001b[0m\u001b[1;33m]\u001b[0m\u001b[1;33m,\u001b[0m \u001b[0mnumber_rank\u001b[0m\u001b[1;33m)\u001b[0m\u001b[1;33m\u001b[0m\u001b[1;33m\u001b[0m\u001b[0m\n\u001b[0m\u001b[0;32m      5\u001b[0m \u001b[0mphone_data_df\u001b[0m\u001b[1;33m[\u001b[0m\u001b[0mattribute\u001b[0m\u001b[1;33m]\u001b[0m \u001b[1;33m=\u001b[0m \u001b[0mresults\u001b[0m\u001b[1;33m\u001b[0m\u001b[1;33m\u001b[0m\u001b[0m\n\u001b[0;32m      6\u001b[0m \u001b[0mnumerical_bin_edges_dict\u001b[0m\u001b[1;33m[\u001b[0m\u001b[0mattribute\u001b[0m\u001b[1;33m]\u001b[0m \u001b[1;33m=\u001b[0m \u001b[0mbin_edges\u001b[0m\u001b[1;33m\u001b[0m\u001b[1;33m\u001b[0m\u001b[0m\n",
      "\u001b[1;32m<ipython-input-16-214d1ad58514>\u001b[0m in \u001b[0;36mconvert_to_rank\u001b[1;34m(data_df, number_rank)\u001b[0m\n\u001b[0;32m      7\u001b[0m                             \u001b[0mq\u001b[0m\u001b[1;33m=\u001b[0m\u001b[0mquantile_list\u001b[0m\u001b[1;33m,\u001b[0m\u001b[1;33m\u001b[0m\u001b[1;33m\u001b[0m\u001b[0m\n\u001b[0;32m      8\u001b[0m                             \u001b[0mlabels\u001b[0m \u001b[1;33m=\u001b[0m \u001b[0mlabel_rank\u001b[0m\u001b[1;33m,\u001b[0m\u001b[1;33m\u001b[0m\u001b[1;33m\u001b[0m\u001b[0m\n\u001b[1;32m----> 9\u001b[1;33m                             retbins=True)\n\u001b[0m\u001b[0;32m     10\u001b[0m     \u001b[1;32mreturn\u001b[0m \u001b[0mresults\u001b[0m\u001b[1;33m,\u001b[0m \u001b[0mbin_edges\u001b[0m\u001b[1;33m\u001b[0m\u001b[1;33m\u001b[0m\u001b[0m\n",
      "\u001b[1;32m~\\AppData\\Local\\Continuum\\anaconda3\\lib\\site-packages\\pandas\\core\\reshape\\tile.py\u001b[0m in \u001b[0;36mqcut\u001b[1;34m(x, q, labels, retbins, precision, duplicates)\u001b[0m\n\u001b[0;32m    347\u001b[0m         \u001b[0minclude_lowest\u001b[0m\u001b[1;33m=\u001b[0m\u001b[1;32mTrue\u001b[0m\u001b[1;33m,\u001b[0m\u001b[1;33m\u001b[0m\u001b[1;33m\u001b[0m\u001b[0m\n\u001b[0;32m    348\u001b[0m         \u001b[0mdtype\u001b[0m\u001b[1;33m=\u001b[0m\u001b[0mdtype\u001b[0m\u001b[1;33m,\u001b[0m\u001b[1;33m\u001b[0m\u001b[1;33m\u001b[0m\u001b[0m\n\u001b[1;32m--> 349\u001b[1;33m         \u001b[0mduplicates\u001b[0m\u001b[1;33m=\u001b[0m\u001b[0mduplicates\u001b[0m\u001b[1;33m,\u001b[0m\u001b[1;33m\u001b[0m\u001b[1;33m\u001b[0m\u001b[0m\n\u001b[0m\u001b[0;32m    350\u001b[0m     )\n\u001b[0;32m    351\u001b[0m \u001b[1;33m\u001b[0m\u001b[0m\n",
      "\u001b[1;32m~\\AppData\\Local\\Continuum\\anaconda3\\lib\\site-packages\\pandas\\core\\reshape\\tile.py\u001b[0m in \u001b[0;36m_bins_to_cuts\u001b[1;34m(x, bins, right, labels, precision, include_lowest, dtype, duplicates)\u001b[0m\n\u001b[0;32m    385\u001b[0m                 \u001b[1;34m\"Bin edges must be unique: {bins!r}.\\nYou \"\u001b[0m\u001b[1;33m\u001b[0m\u001b[1;33m\u001b[0m\u001b[0m\n\u001b[0;32m    386\u001b[0m                 \u001b[1;34m\"can drop duplicate edges by setting \"\u001b[0m\u001b[1;33m\u001b[0m\u001b[1;33m\u001b[0m\u001b[0m\n\u001b[1;32m--> 387\u001b[1;33m                 \u001b[1;34m\"the 'duplicates' kwarg\"\u001b[0m\u001b[1;33m.\u001b[0m\u001b[0mformat\u001b[0m\u001b[1;33m(\u001b[0m\u001b[0mbins\u001b[0m\u001b[1;33m=\u001b[0m\u001b[0mbins\u001b[0m\u001b[1;33m)\u001b[0m\u001b[1;33m\u001b[0m\u001b[1;33m\u001b[0m\u001b[0m\n\u001b[0m\u001b[0;32m    388\u001b[0m             )\n\u001b[0;32m    389\u001b[0m         \u001b[1;32melse\u001b[0m\u001b[1;33m:\u001b[0m\u001b[1;33m\u001b[0m\u001b[1;33m\u001b[0m\u001b[0m\n",
      "\u001b[1;31mValueError\u001b[0m: Bin edges must be unique: array([1. , 1. , 2. , 3.8, 4. , 5. ]).\nYou can drop duplicate edges by setting the 'duplicates' kwarg"
     ]
    }
   ],
   "source": [
    "attribute = 'battery'\n",
    "print(attribute)\n",
    "number_rank = 5\n",
    "results, bin_edges = convert_to_rank(phone_data_df[attribute], number_rank)\n",
    "phone_data_df[attribute] = results\n",
    "numerical_bin_edges_dict[attribute] = bin_edges\n",
    "print('bin_edges:', bin_edges)"
   ]
  },
  {
   "cell_type": "code",
   "execution_count": 59,
   "metadata": {},
   "outputs": [
    {
     "data": {
      "text/plain": [
       "1    281\n",
       "4    201\n",
       "5    199\n",
       "3    164\n",
       "2    154\n",
       "Name: battery, dtype: int64"
      ]
     },
     "execution_count": 59,
     "metadata": {},
     "output_type": "execute_result"
    }
   ],
   "source": [
    "phone_data_df['battery'].value_counts()"
   ]
  },
  {
   "cell_type": "markdown",
   "metadata": {},
   "source": [
    "8.Price"
   ]
  },
  {
   "cell_type": "code",
   "execution_count": 60,
   "metadata": {},
   "outputs": [
    {
     "name": "stdout",
     "output_type": "stream",
     "text": [
      "price\n",
      "quantile_list: [0.0, 0.1, 0.2, 0.3, 0.4, 0.5, 0.6, 0.7, 0.8, 0.9, 1.0]\n"
     ]
    },
    {
     "ename": "ValueError",
     "evalue": "Bin edges must be unique: array([ 1. ,  1. ,  2.6,  3. ,  4. ,  5. ,  6. ,  7.6,  8. ,  9. , 10. ]).\nYou can drop duplicate edges by setting the 'duplicates' kwarg",
     "output_type": "error",
     "traceback": [
      "\u001b[1;31m---------------------------------------------------------------------------\u001b[0m",
      "\u001b[1;31mValueError\u001b[0m                                Traceback (most recent call last)",
      "\u001b[1;32m<ipython-input-60-d407d5a70763>\u001b[0m in \u001b[0;36m<module>\u001b[1;34m\u001b[0m\n\u001b[0;32m      2\u001b[0m \u001b[0mprint\u001b[0m\u001b[1;33m(\u001b[0m\u001b[0mattribute\u001b[0m\u001b[1;33m)\u001b[0m\u001b[1;33m\u001b[0m\u001b[1;33m\u001b[0m\u001b[0m\n\u001b[0;32m      3\u001b[0m \u001b[0mnumber_rank\u001b[0m \u001b[1;33m=\u001b[0m \u001b[1;36m10\u001b[0m\u001b[1;33m\u001b[0m\u001b[1;33m\u001b[0m\u001b[0m\n\u001b[1;32m----> 4\u001b[1;33m \u001b[0mresults\u001b[0m\u001b[1;33m,\u001b[0m \u001b[0mbin_edges\u001b[0m \u001b[1;33m=\u001b[0m \u001b[0mconvert_to_rank\u001b[0m\u001b[1;33m(\u001b[0m\u001b[0mphone_data_df\u001b[0m\u001b[1;33m[\u001b[0m\u001b[0mattribute\u001b[0m\u001b[1;33m]\u001b[0m\u001b[1;33m,\u001b[0m \u001b[0mnumber_rank\u001b[0m\u001b[1;33m)\u001b[0m\u001b[1;33m\u001b[0m\u001b[1;33m\u001b[0m\u001b[0m\n\u001b[0m\u001b[0;32m      5\u001b[0m \u001b[0mphone_data_df\u001b[0m\u001b[1;33m[\u001b[0m\u001b[0mattribute\u001b[0m\u001b[1;33m]\u001b[0m \u001b[1;33m=\u001b[0m \u001b[0mresults\u001b[0m\u001b[1;33m\u001b[0m\u001b[1;33m\u001b[0m\u001b[0m\n\u001b[0;32m      6\u001b[0m \u001b[0mnumerical_bin_edges_dict\u001b[0m\u001b[1;33m[\u001b[0m\u001b[0mattribute\u001b[0m\u001b[1;33m]\u001b[0m \u001b[1;33m=\u001b[0m \u001b[0mbin_edges\u001b[0m\u001b[1;33m\u001b[0m\u001b[1;33m\u001b[0m\u001b[0m\n",
      "\u001b[1;32m<ipython-input-16-214d1ad58514>\u001b[0m in \u001b[0;36mconvert_to_rank\u001b[1;34m(data_df, number_rank)\u001b[0m\n\u001b[0;32m      7\u001b[0m                             \u001b[0mq\u001b[0m\u001b[1;33m=\u001b[0m\u001b[0mquantile_list\u001b[0m\u001b[1;33m,\u001b[0m\u001b[1;33m\u001b[0m\u001b[1;33m\u001b[0m\u001b[0m\n\u001b[0;32m      8\u001b[0m                             \u001b[0mlabels\u001b[0m \u001b[1;33m=\u001b[0m \u001b[0mlabel_rank\u001b[0m\u001b[1;33m,\u001b[0m\u001b[1;33m\u001b[0m\u001b[1;33m\u001b[0m\u001b[0m\n\u001b[1;32m----> 9\u001b[1;33m                             retbins=True)\n\u001b[0m\u001b[0;32m     10\u001b[0m     \u001b[1;32mreturn\u001b[0m \u001b[0mresults\u001b[0m\u001b[1;33m,\u001b[0m \u001b[0mbin_edges\u001b[0m\u001b[1;33m\u001b[0m\u001b[1;33m\u001b[0m\u001b[0m\n",
      "\u001b[1;32m~\\AppData\\Local\\Continuum\\anaconda3\\lib\\site-packages\\pandas\\core\\reshape\\tile.py\u001b[0m in \u001b[0;36mqcut\u001b[1;34m(x, q, labels, retbins, precision, duplicates)\u001b[0m\n\u001b[0;32m    347\u001b[0m         \u001b[0minclude_lowest\u001b[0m\u001b[1;33m=\u001b[0m\u001b[1;32mTrue\u001b[0m\u001b[1;33m,\u001b[0m\u001b[1;33m\u001b[0m\u001b[1;33m\u001b[0m\u001b[0m\n\u001b[0;32m    348\u001b[0m         \u001b[0mdtype\u001b[0m\u001b[1;33m=\u001b[0m\u001b[0mdtype\u001b[0m\u001b[1;33m,\u001b[0m\u001b[1;33m\u001b[0m\u001b[1;33m\u001b[0m\u001b[0m\n\u001b[1;32m--> 349\u001b[1;33m         \u001b[0mduplicates\u001b[0m\u001b[1;33m=\u001b[0m\u001b[0mduplicates\u001b[0m\u001b[1;33m,\u001b[0m\u001b[1;33m\u001b[0m\u001b[1;33m\u001b[0m\u001b[0m\n\u001b[0m\u001b[0;32m    350\u001b[0m     )\n\u001b[0;32m    351\u001b[0m \u001b[1;33m\u001b[0m\u001b[0m\n",
      "\u001b[1;32m~\\AppData\\Local\\Continuum\\anaconda3\\lib\\site-packages\\pandas\\core\\reshape\\tile.py\u001b[0m in \u001b[0;36m_bins_to_cuts\u001b[1;34m(x, bins, right, labels, precision, include_lowest, dtype, duplicates)\u001b[0m\n\u001b[0;32m    385\u001b[0m                 \u001b[1;34m\"Bin edges must be unique: {bins!r}.\\nYou \"\u001b[0m\u001b[1;33m\u001b[0m\u001b[1;33m\u001b[0m\u001b[0m\n\u001b[0;32m    386\u001b[0m                 \u001b[1;34m\"can drop duplicate edges by setting \"\u001b[0m\u001b[1;33m\u001b[0m\u001b[1;33m\u001b[0m\u001b[0m\n\u001b[1;32m--> 387\u001b[1;33m                 \u001b[1;34m\"the 'duplicates' kwarg\"\u001b[0m\u001b[1;33m.\u001b[0m\u001b[0mformat\u001b[0m\u001b[1;33m(\u001b[0m\u001b[0mbins\u001b[0m\u001b[1;33m=\u001b[0m\u001b[0mbins\u001b[0m\u001b[1;33m)\u001b[0m\u001b[1;33m\u001b[0m\u001b[1;33m\u001b[0m\u001b[0m\n\u001b[0m\u001b[0;32m    388\u001b[0m             )\n\u001b[0;32m    389\u001b[0m         \u001b[1;32melse\u001b[0m\u001b[1;33m:\u001b[0m\u001b[1;33m\u001b[0m\u001b[1;33m\u001b[0m\u001b[0m\n",
      "\u001b[1;31mValueError\u001b[0m: Bin edges must be unique: array([ 1. ,  1. ,  2.6,  3. ,  4. ,  5. ,  6. ,  7.6,  8. ,  9. , 10. ]).\nYou can drop duplicate edges by setting the 'duplicates' kwarg"
     ]
    }
   ],
   "source": [
    "attribute = 'price'\n",
    "print(attribute)\n",
    "number_rank = 10\n",
    "results, bin_edges = convert_to_rank(phone_data_df[attribute], number_rank)\n",
    "phone_data_df[attribute] = results\n",
    "numerical_bin_edges_dict[attribute] = bin_edges\n",
    "print('bin_edges:', bin_edges)"
   ]
  },
  {
   "cell_type": "code",
   "execution_count": 61,
   "metadata": {},
   "outputs": [
    {
     "data": {
      "text/plain": [
       "1     123\n",
       "6     121\n",
       "3     117\n",
       "9     109\n",
       "4     108\n",
       "8     103\n",
       "10     88\n",
       "7      78\n",
       "2      77\n",
       "5      75\n",
       "Name: price, dtype: int64"
      ]
     },
     "execution_count": 61,
     "metadata": {},
     "output_type": "execute_result"
    }
   ],
   "source": [
    "phone_data_df['price'].value_counts()"
   ]
  },
  {
   "cell_type": "markdown",
   "metadata": {},
   "source": [
    "9. Popularity"
   ]
  },
  {
   "cell_type": "code",
   "execution_count": 62,
   "metadata": {},
   "outputs": [
    {
     "name": "stdout",
     "output_type": "stream",
     "text": [
      "popularity\n",
      "quantile_list: [0.0, 0.1, 0.2, 0.3, 0.4, 0.5, 0.6, 0.7, 0.8, 0.9, 1.0]\n",
      "bin_edges: [1.4350000e+03 7.4523000e+04 1.5629340e+05 2.6658200e+05 4.1709940e+05\n",
      " 6.5663700e+05 1.0460196e+06 1.6008788e+06 2.6544090e+06 5.2030334e+06\n",
      " 4.0991522e+07]\n"
     ]
    }
   ],
   "source": [
    "attribute = 'popularity'\n",
    "print(attribute)\n",
    "number_rank = 10\n",
    "results, bin_edges = convert_to_rank(phone_data_df[attribute], number_rank)\n",
    "phone_data_df[attribute] = results\n",
    "numerical_bin_edges_dict[attribute] = bin_edges\n",
    "print('bin_edges:', bin_edges)"
   ]
  },
  {
   "cell_type": "code",
   "execution_count": 63,
   "metadata": {},
   "outputs": [
    {
     "data": {
      "text/plain": [
       "10    100\n",
       "9     100\n",
       "8     100\n",
       "7     100\n",
       "5     100\n",
       "4     100\n",
       "3     100\n",
       "2     100\n",
       "1     100\n",
       "6      99\n",
       "Name: popularity, dtype: int64"
      ]
     },
     "execution_count": 63,
     "metadata": {},
     "output_type": "execute_result"
    }
   ],
   "source": [
    "phone_data_df[attribute].value_counts()"
   ]
  },
  {
   "cell_type": "code",
   "execution_count": null,
   "metadata": {},
   "outputs": [],
   "source": []
  },
  {
   "cell_type": "markdown",
   "metadata": {},
   "source": [
    "## Filter by CPU (None)"
   ]
  },
  {
   "cell_type": "code",
   "execution_count": 64,
   "metadata": {},
   "outputs": [],
   "source": [
    "# filter one phone that did not indicate the cpu\n",
    "phone_data_updated_df = phone_data_df[phone_data_df['cpu'] != 'null']"
   ]
  },
  {
   "cell_type": "markdown",
   "metadata": {},
   "source": [
    "## Updated Phone Data"
   ]
  },
  {
   "cell_type": "code",
   "execution_count": 65,
   "metadata": {},
   "outputs": [
    {
     "data": {
      "text/plain": [
       "Index(['modelname', 'brand', 'url', 'img', 'nettech', 'year', 'storage', 'ram',\n",
       "       'd1', 'd2', 'd3', 'weight', 'displaysize', 'displayratio',\n",
       "       'resolution1', 'resolution2', 'cpu', 'os1', 'cam1', 'cam2', 'nfc',\n",
       "       'gps', 'battery', 'price', 'popularity', 'id', 'nfc_details',\n",
       "       'year_details', 'displayratio_', 'fullscreen', 'phone_size',\n",
       "       'phone_thickness', 'phone_weight', 'resolution', 'camera'],\n",
       "      dtype='object')"
      ]
     },
     "execution_count": 65,
     "metadata": {},
     "output_type": "execute_result"
    }
   ],
   "source": [
    "phone_data_updated_df.columns"
   ]
  },
  {
   "cell_type": "code",
   "execution_count": 66,
   "metadata": {},
   "outputs": [],
   "source": [
    "# columns_map_dict = {'nfc':'nfc_details', 'weight':'weight_details', 'weight(label)':'weight', 'nfc_label':'nfc'}\n",
    "# phone_data_updated_df = phone_data_updated_df.rename(columns=columns_map_dict)"
   ]
  },
  {
   "cell_type": "code",
   "execution_count": null,
   "metadata": {},
   "outputs": [],
   "source": []
  },
  {
   "cell_type": "code",
   "execution_count": 67,
   "metadata": {},
   "outputs": [],
   "source": [
    "# 2020-04-25\n",
    "# columns_names = ['modelname', 'brand', 'url', 'img', 'nettech', 'year','year_details', 'storage', 'ram', 'phone_size', \\\n",
    "#                  'd1', 'd2', 'phone_thickness', 'd3', 'weight',  'weight_details', 'displaysize', 'displayratio', 'resolution', 'resolution1', 'resolution2',\\\n",
    "#                  'cpu', 'os1', 'cam1', 'cam2', 'nfc', 'nfc_details', 'battery', 'price', 'popularity']\n",
    "\n",
    "# new_phone_data_updated_df = phone_data_updated_df[columns_names]\n",
    "\n",
    "# new_phone_data_updated_df.to_json('data/new_phone_data_v2.json', orient='records')\n"
   ]
  },
  {
   "cell_type": "code",
   "execution_count": 68,
   "metadata": {},
   "outputs": [],
   "source": [
    "# # 2020-05-05\n",
    "# columns_names = ['modelname', 'brand', 'url', 'img', 'nettech', 'year','year_details', 'storage', 'ram', 'phone_size', \\\n",
    "#                  'd1', 'd2', 'phone_thickness', 'd3', 'weight',  'weight_details', 'displaysize', 'displayratio', 'resolution', 'resolution1', 'resolution2',\\\n",
    "#                  'cpu', 'os1', 'cam1', 'cam2', 'nfc', 'nfc_details', 'battery', 'price', 'popularity']\n",
    "\n",
    "# new_phone_data_updated_df = phone_data_updated_df[columns_names]\n",
    "\n",
    "\n",
    "# new_phone_data_updated_df = new_phone_data_updated_df[new_phone_data_updated_df['year']>2017]\n",
    "\n",
    "# new_phone_data_updated_df.to_json('data/new_phone_data_v3.json', orient='records')"
   ]
  },
  {
   "cell_type": "code",
   "execution_count": 71,
   "metadata": {},
   "outputs": [],
   "source": [
    "# # 2020-05-09\n",
    "columns_names = ['id', 'modelname'] + new_categorical_attributes + new_numerical_attributes \n",
    "\n",
    "new_phone_data_updated_df = phone_data_updated_df[columns_names]\n",
    "\n",
    "new_phone_data_updated_df.to_json('data/new_phone_data.json', orient='records')"
   ]
  },
  {
   "cell_type": "code",
   "execution_count": 72,
   "metadata": {},
   "outputs": [
    {
     "data": {
      "text/plain": [
       "'[Successfully store in json file]'"
      ]
     },
     "execution_count": 72,
     "metadata": {},
     "output_type": "execute_result"
    }
   ],
   "source": [
    "phone_data_file = 'data/new_phone_data.json'\n",
    "\n",
    "phone_data = load_data.load_json_data(phone_data_file)\n",
    "phone_data_json = {'pool':phone_data}\n",
    "\n",
    "\n",
    "store_data.store_data_to_json(phone_data_json, phone_data_file)"
   ]
  },
  {
   "cell_type": "code",
   "execution_count": 73,
   "metadata": {},
   "outputs": [
    {
     "name": "stdout",
     "output_type": "stream",
     "text": [
      "19\n",
      "Index(['id', 'modelname', 'brand', 'nettech', 'os1', 'nfc', 'year',\n",
      "       'fullscreen', 'phone_size', 'phone_thickness', 'phone_weight',\n",
      "       'resolution', 'camera', 'storage', 'ram', 'displaysize', 'battery',\n",
      "       'price', 'popularity'],\n",
      "      dtype='object')\n"
     ]
    }
   ],
   "source": [
    "phone_data_dict = {}\n",
    "id = 0\n",
    "for each_phone in phone_data:\n",
    "    id += 1\n",
    "    phone_data_dict[id] = each_phone\n",
    "\n",
    "phone_data_df = pd.DataFrame.from_dict(phone_data_dict, orient='index')\n",
    "\n",
    "\n",
    "print(len(phone_data_df.columns))\n",
    "print(phone_data_df.columns)"
   ]
  },
  {
   "cell_type": "code",
   "execution_count": 74,
   "metadata": {},
   "outputs": [
    {
     "data": {
      "text/plain": [
       "998"
      ]
     },
     "execution_count": 74,
     "metadata": {},
     "output_type": "execute_result"
    }
   ],
   "source": [
    "len(phone_data_df)"
   ]
  },
  {
   "cell_type": "code",
   "execution_count": 75,
   "metadata": {},
   "outputs": [],
   "source": [
    "new_categorical_attributes = ['brand','nettech','os1', 'nfc', 'year', 'fullscreen']\n",
    "new_numerical_attributes = ['phone_size','phone_thickness','phone_weight', 'resolution', 'camera', 'storage', 'ram','displaysize', 'battery', 'price','popularity']"
   ]
  },
  {
   "cell_type": "code",
   "execution_count": 76,
   "metadata": {},
   "outputs": [
    {
     "name": "stdout",
     "output_type": "stream",
     "text": [
      "new_categorical_attributes: 6\n",
      "new_numerical_attributes: 11\n"
     ]
    }
   ],
   "source": [
    "print('new_categorical_attributes:', len(new_categorical_attributes))\n",
    "print('new_numerical_attributes:', len(new_numerical_attributes))\n"
   ]
  },
  {
   "cell_type": "code",
   "execution_count": 77,
   "metadata": {},
   "outputs": [
    {
     "data": {
      "text/html": [
       "<div>\n",
       "<style scoped>\n",
       "    .dataframe tbody tr th:only-of-type {\n",
       "        vertical-align: middle;\n",
       "    }\n",
       "\n",
       "    .dataframe tbody tr th {\n",
       "        vertical-align: top;\n",
       "    }\n",
       "\n",
       "    .dataframe thead th {\n",
       "        text-align: right;\n",
       "    }\n",
       "</style>\n",
       "<table border=\"1\" class=\"dataframe\">\n",
       "  <thead>\n",
       "    <tr style=\"text-align: right;\">\n",
       "      <th></th>\n",
       "      <th>id</th>\n",
       "      <th>modelname</th>\n",
       "      <th>brand</th>\n",
       "      <th>nettech</th>\n",
       "      <th>os1</th>\n",
       "      <th>nfc</th>\n",
       "      <th>year</th>\n",
       "      <th>fullscreen</th>\n",
       "      <th>phone_size</th>\n",
       "      <th>phone_thickness</th>\n",
       "      <th>phone_weight</th>\n",
       "      <th>resolution</th>\n",
       "      <th>camera</th>\n",
       "      <th>storage</th>\n",
       "      <th>ram</th>\n",
       "      <th>displaysize</th>\n",
       "      <th>battery</th>\n",
       "      <th>price</th>\n",
       "      <th>popularity</th>\n",
       "    </tr>\n",
       "  </thead>\n",
       "  <tbody>\n",
       "    <tr>\n",
       "      <td>1</td>\n",
       "      <td>0</td>\n",
       "      <td>alcatel 1</td>\n",
       "      <td>alcatel</td>\n",
       "      <td>GSM / HSPA / LTE</td>\n",
       "      <td>Android</td>\n",
       "      <td>false</td>\n",
       "      <td>2018</td>\n",
       "      <td>false</td>\n",
       "      <td>1</td>\n",
       "      <td>5</td>\n",
       "      <td>1</td>\n",
       "      <td>1</td>\n",
       "      <td>1</td>\n",
       "      <td>1</td>\n",
       "      <td>1</td>\n",
       "      <td>1</td>\n",
       "      <td>1</td>\n",
       "      <td>1</td>\n",
       "      <td>1</td>\n",
       "    </tr>\n",
       "    <tr>\n",
       "      <td>2</td>\n",
       "      <td>1</td>\n",
       "      <td>alcatel 3v</td>\n",
       "      <td>alcatel</td>\n",
       "      <td>GSM / HSPA / LTE</td>\n",
       "      <td>Android</td>\n",
       "      <td>true</td>\n",
       "      <td>2018</td>\n",
       "      <td>false</td>\n",
       "      <td>5</td>\n",
       "      <td>2</td>\n",
       "      <td>2</td>\n",
       "      <td>2</td>\n",
       "      <td>1</td>\n",
       "      <td>1</td>\n",
       "      <td>1</td>\n",
       "      <td>3</td>\n",
       "      <td>1</td>\n",
       "      <td>4</td>\n",
       "      <td>4</td>\n",
       "    </tr>\n",
       "    <tr>\n",
       "      <td>3</td>\n",
       "      <td>2</td>\n",
       "      <td>alcatel 5v</td>\n",
       "      <td>alcatel</td>\n",
       "      <td>GSM / HSPA / LTE</td>\n",
       "      <td>Android</td>\n",
       "      <td>true</td>\n",
       "      <td>2018</td>\n",
       "      <td>false</td>\n",
       "      <td>2</td>\n",
       "      <td>3</td>\n",
       "      <td>2</td>\n",
       "      <td>1</td>\n",
       "      <td>1</td>\n",
       "      <td>2</td>\n",
       "      <td>2</td>\n",
       "      <td>3</td>\n",
       "      <td>4</td>\n",
       "      <td>4</td>\n",
       "      <td>3</td>\n",
       "    </tr>\n",
       "    <tr>\n",
       "      <td>4</td>\n",
       "      <td>3</td>\n",
       "      <td>alcatel 3c</td>\n",
       "      <td>alcatel</td>\n",
       "      <td>GSM / HSPA / LTE</td>\n",
       "      <td>Android</td>\n",
       "      <td>false</td>\n",
       "      <td>2018</td>\n",
       "      <td>false</td>\n",
       "      <td>5</td>\n",
       "      <td>2</td>\n",
       "      <td>3</td>\n",
       "      <td>1</td>\n",
       "      <td>1</td>\n",
       "      <td>1</td>\n",
       "      <td>1</td>\n",
       "      <td>3</td>\n",
       "      <td>1</td>\n",
       "      <td>3</td>\n",
       "      <td>3</td>\n",
       "    </tr>\n",
       "    <tr>\n",
       "      <td>5</td>\n",
       "      <td>4</td>\n",
       "      <td>alcatel Tetra</td>\n",
       "      <td>alcatel</td>\n",
       "      <td>GSM / HSPA / LTE</td>\n",
       "      <td>Android</td>\n",
       "      <td>false</td>\n",
       "      <td>2018</td>\n",
       "      <td>false</td>\n",
       "      <td>1</td>\n",
       "      <td>5</td>\n",
       "      <td>1</td>\n",
       "      <td>1</td>\n",
       "      <td>1</td>\n",
       "      <td>1</td>\n",
       "      <td>1</td>\n",
       "      <td>1</td>\n",
       "      <td>1</td>\n",
       "      <td>1</td>\n",
       "      <td>1</td>\n",
       "    </tr>\n",
       "    <tr>\n",
       "      <td>...</td>\n",
       "      <td>...</td>\n",
       "      <td>...</td>\n",
       "      <td>...</td>\n",
       "      <td>...</td>\n",
       "      <td>...</td>\n",
       "      <td>...</td>\n",
       "      <td>...</td>\n",
       "      <td>...</td>\n",
       "      <td>...</td>\n",
       "      <td>...</td>\n",
       "      <td>...</td>\n",
       "      <td>...</td>\n",
       "      <td>...</td>\n",
       "      <td>...</td>\n",
       "      <td>...</td>\n",
       "      <td>...</td>\n",
       "      <td>...</td>\n",
       "      <td>...</td>\n",
       "      <td>...</td>\n",
       "    </tr>\n",
       "    <tr>\n",
       "      <td>994</td>\n",
       "      <td>994</td>\n",
       "      <td>vivo NEX 3S 5G</td>\n",
       "      <td>vivo</td>\n",
       "      <td>GSM / CDMA / HSPA / EVDO / LTE / 5G</td>\n",
       "      <td>Android</td>\n",
       "      <td>true</td>\n",
       "      <td>2020</td>\n",
       "      <td>true</td>\n",
       "      <td>5</td>\n",
       "      <td>5</td>\n",
       "      <td>5</td>\n",
       "      <td>2</td>\n",
       "      <td>4</td>\n",
       "      <td>5</td>\n",
       "      <td>5</td>\n",
       "      <td>5</td>\n",
       "      <td>5</td>\n",
       "      <td>10</td>\n",
       "      <td>2</td>\n",
       "    </tr>\n",
       "    <tr>\n",
       "      <td>995</td>\n",
       "      <td>995</td>\n",
       "      <td>Vodafone Smart X9</td>\n",
       "      <td>Vodafone</td>\n",
       "      <td>GSM / HSPA / LTE</td>\n",
       "      <td>Android</td>\n",
       "      <td>true</td>\n",
       "      <td>2018</td>\n",
       "      <td>false</td>\n",
       "      <td>1</td>\n",
       "      <td>2</td>\n",
       "      <td>2</td>\n",
       "      <td>2</td>\n",
       "      <td>3</td>\n",
       "      <td>2</td>\n",
       "      <td>2</td>\n",
       "      <td>2</td>\n",
       "      <td>2</td>\n",
       "      <td>2</td>\n",
       "      <td>2</td>\n",
       "    </tr>\n",
       "    <tr>\n",
       "      <td>996</td>\n",
       "      <td>996</td>\n",
       "      <td>Vodafone Smart N9</td>\n",
       "      <td>Vodafone</td>\n",
       "      <td>GSM / HSPA / LTE</td>\n",
       "      <td>Android</td>\n",
       "      <td>true</td>\n",
       "      <td>2018</td>\n",
       "      <td>false</td>\n",
       "      <td>1</td>\n",
       "      <td>4</td>\n",
       "      <td>1</td>\n",
       "      <td>1</td>\n",
       "      <td>2</td>\n",
       "      <td>1</td>\n",
       "      <td>1</td>\n",
       "      <td>1</td>\n",
       "      <td>1</td>\n",
       "      <td>2</td>\n",
       "      <td>3</td>\n",
       "    </tr>\n",
       "    <tr>\n",
       "      <td>997</td>\n",
       "      <td>997</td>\n",
       "      <td>Wiko View</td>\n",
       "      <td>Wiko</td>\n",
       "      <td>GSM / HSPA / LTE</td>\n",
       "      <td>Android</td>\n",
       "      <td>false</td>\n",
       "      <td>2017</td>\n",
       "      <td>false</td>\n",
       "      <td>2</td>\n",
       "      <td>4</td>\n",
       "      <td>2</td>\n",
       "      <td>1</td>\n",
       "      <td>2</td>\n",
       "      <td>1</td>\n",
       "      <td>2</td>\n",
       "      <td>2</td>\n",
       "      <td>1</td>\n",
       "      <td>3</td>\n",
       "      <td>2</td>\n",
       "    </tr>\n",
       "    <tr>\n",
       "      <td>998</td>\n",
       "      <td>998</td>\n",
       "      <td>Wiko View2 Pro</td>\n",
       "      <td>Wiko</td>\n",
       "      <td>GSM / HSPA / LTE</td>\n",
       "      <td>Android</td>\n",
       "      <td>true</td>\n",
       "      <td>2018</td>\n",
       "      <td>false</td>\n",
       "      <td>2</td>\n",
       "      <td>3</td>\n",
       "      <td>2</td>\n",
       "      <td>1</td>\n",
       "      <td>3</td>\n",
       "      <td>3</td>\n",
       "      <td>3</td>\n",
       "      <td>3</td>\n",
       "      <td>1</td>\n",
       "      <td>8</td>\n",
       "      <td>3</td>\n",
       "    </tr>\n",
       "  </tbody>\n",
       "</table>\n",
       "<p>998 rows × 19 columns</p>\n",
       "</div>"
      ],
      "text/plain": [
       "      id          modelname     brand                              nettech  \\\n",
       "1      0          alcatel 1   alcatel                     GSM / HSPA / LTE   \n",
       "2      1         alcatel 3v   alcatel                     GSM / HSPA / LTE   \n",
       "3      2         alcatel 5v   alcatel                     GSM / HSPA / LTE   \n",
       "4      3         alcatel 3c   alcatel                     GSM / HSPA / LTE   \n",
       "5      4      alcatel Tetra   alcatel                     GSM / HSPA / LTE   \n",
       "..   ...                ...       ...                                  ...   \n",
       "994  994     vivo NEX 3S 5G      vivo  GSM / CDMA / HSPA / EVDO / LTE / 5G   \n",
       "995  995  Vodafone Smart X9  Vodafone                     GSM / HSPA / LTE   \n",
       "996  996  Vodafone Smart N9  Vodafone                     GSM / HSPA / LTE   \n",
       "997  997          Wiko View      Wiko                     GSM / HSPA / LTE   \n",
       "998  998     Wiko View2 Pro      Wiko                     GSM / HSPA / LTE   \n",
       "\n",
       "         os1    nfc  year fullscreen  phone_size  phone_thickness  \\\n",
       "1    Android  false  2018      false           1                5   \n",
       "2    Android   true  2018      false           5                2   \n",
       "3    Android   true  2018      false           2                3   \n",
       "4    Android  false  2018      false           5                2   \n",
       "5    Android  false  2018      false           1                5   \n",
       "..       ...    ...   ...        ...         ...              ...   \n",
       "994  Android   true  2020       true           5                5   \n",
       "995  Android   true  2018      false           1                2   \n",
       "996  Android   true  2018      false           1                4   \n",
       "997  Android  false  2017      false           2                4   \n",
       "998  Android   true  2018      false           2                3   \n",
       "\n",
       "     phone_weight  resolution  camera  storage  ram  displaysize  battery  \\\n",
       "1               1           1       1        1    1            1        1   \n",
       "2               2           2       1        1    1            3        1   \n",
       "3               2           1       1        2    2            3        4   \n",
       "4               3           1       1        1    1            3        1   \n",
       "5               1           1       1        1    1            1        1   \n",
       "..            ...         ...     ...      ...  ...          ...      ...   \n",
       "994             5           2       4        5    5            5        5   \n",
       "995             2           2       3        2    2            2        2   \n",
       "996             1           1       2        1    1            1        1   \n",
       "997             2           1       2        1    2            2        1   \n",
       "998             2           1       3        3    3            3        1   \n",
       "\n",
       "     price  popularity  \n",
       "1        1           1  \n",
       "2        4           4  \n",
       "3        4           3  \n",
       "4        3           3  \n",
       "5        1           1  \n",
       "..     ...         ...  \n",
       "994     10           2  \n",
       "995      2           2  \n",
       "996      2           3  \n",
       "997      3           2  \n",
       "998      8           3  \n",
       "\n",
       "[998 rows x 19 columns]"
      ]
     },
     "execution_count": 77,
     "metadata": {},
     "output_type": "execute_result"
    }
   ],
   "source": [
    "phone_data_df"
   ]
  },
  {
   "cell_type": "code",
   "execution_count": 78,
   "metadata": {},
   "outputs": [],
   "source": [
    "numerical_bin_edges_dict\n",
    "for each in numerical_bin_edges_dict:\n",
    "    numerical_bin_edges_dict[each][-1] =  math.ceil(numerical_bin_edges_dict[each][-1] + 0.01)\n",
    "    numerical_bin_edges_dict[each] = list(numerical_bin_edges_dict[each])"
   ]
  },
  {
   "cell_type": "code",
   "execution_count": 79,
   "metadata": {},
   "outputs": [
    {
     "data": {
      "text/plain": [
       "{'storage': [4.0, 16.0, 32.0, 64.0, 128.0, 513.0],\n",
       " 'ram': [0.5, 2.0, 3.0, 4.0, 6.0, 13.0],\n",
       " 'phone_size': [109.1, 165.0, 171.3, 173.98, 176.7, 200.0],\n",
       " 'phone_thickness': [6.0, 7.8, 8.1, 8.5, 8.9, 19.0],\n",
       " 'phone_weight': [62.5, 152.0, 165.0, 176.0, 190.0, 470.0],\n",
       " 'resolution': [240.0, 720.0, 1080.0, 3841.0],\n",
       " 'displaysize': [2.8, 5.5, 5.8, 6.2, 6.4, 8.0],\n",
       " 'camera': [2.0, 12.0, 13.0, 16.0, 109.0],\n",
       " 'battery': [3.0, 3000.0, 3300.0, 3963.199999999999, 4025.0, 9001.0],\n",
       " 'price': [40.0,\n",
       "  109.0,\n",
       "  139.996,\n",
       "  163.5,\n",
       "  196.2,\n",
       "  218.0,\n",
       "  272.5,\n",
       "  325.58399999999995,\n",
       "  403.3,\n",
       "  545.0,\n",
       "  2100.0],\n",
       " 'popularity': [1435.0,\n",
       "  74523.0,\n",
       "  156293.4,\n",
       "  266581.99999999994,\n",
       "  417099.4,\n",
       "  656637.0,\n",
       "  1046019.5999999992,\n",
       "  1600878.799999999,\n",
       "  2654409.000000002,\n",
       "  5203033.400000001,\n",
       "  40991523.0]}"
      ]
     },
     "execution_count": 79,
     "metadata": {},
     "output_type": "execute_result"
    }
   ],
   "source": [
    "numerical_bin_edges_dict"
   ]
  },
  {
   "cell_type": "code",
   "execution_count": 80,
   "metadata": {},
   "outputs": [
    {
     "data": {
      "text/plain": [
       "'[Successfully store in json file]'"
      ]
     },
     "execution_count": 80,
     "metadata": {},
     "output_type": "execute_result"
    }
   ],
   "source": [
    "store_data.store_data_to_json(numerical_bin_edges_dict, 'data/phone_data_numerical_bin_edges.json')"
   ]
  },
  {
   "cell_type": "code",
   "execution_count": null,
   "metadata": {},
   "outputs": [],
   "source": []
  }
 ],
 "metadata": {
  "kernelspec": {
   "display_name": "Python 3",
   "language": "python",
   "name": "python3"
  },
  "language_info": {
   "codemirror_mode": {
    "name": "ipython",
    "version": 3
   },
   "file_extension": ".py",
   "mimetype": "text/x-python",
   "name": "python",
   "nbconvert_exporter": "python",
   "pygments_lexer": "ipython3",
   "version": "3.7.4"
  }
 },
 "nbformat": 4,
 "nbformat_minor": 2
}
